{
 "cells": [
  {
   "cell_type": "markdown",
   "metadata": {},
   "source": [
    "# Chapter 2 - exercise 1: Sử dụng Markdown "
   ]
  },
  {
   "cell_type": "markdown",
   "metadata": {},
   "source": [
    "## Bài tập 1: Tạo danh sách 5 website mà bạn thường xuyên truy cập kèm theo link của chúng"
   ]
  },
  {
   "cell_type": "markdown",
   "metadata": {},
   "source": [
    "1. [Udemy.com](https://www.udemy.com/)\n",
    "2. [BigData University](https://cognitiveclass.ai/)\n",
    "3. [tuoitre.vn](https://tuoitre.vn/)\n",
    "4. [google.com](https://www.google.com/)\n",
    "5. [vnexpress.net](https://vnexpress.net/)"
   ]
  },
  {
   "cell_type": "markdown",
   "metadata": {},
   "source": [
    "## Bài tập 2: Viết tiểu sử ngắn về một nhà khoa học mà bạn yêu thích, có kèm hình ảnh của nhà khoa học và link đến trang Wikipedia của họ"
   ]
  },
  {
   "cell_type": "markdown",
   "metadata": {},
   "source": [
    "### Thomas Alva Edison (February 11, 1847 – October 18, 1931)\n",
    "![Thomas Edison](https://cdn-images-1.medium.com/max/1000/1*s2GyMoLeSV3Epc2Gk3qBXA.png)\n",
    "[Visit Thomas Edison Wikipedia](https://en.wikipedia.org/wiki/Thomas_Edison)\n",
    "- Born: Thomas Alva Edison, February 11, 1847, Milan, Ohio, U.S.\n",
    "- Died: October 18, 1931 (aged 84), West Orange, New Jersey, U.S. \n",
    "- Burial place: Thomas Edison National Historical Park, Nationality American\n",
    "- Education: Self-educated\n",
    "- Occupation: Inventor, businessman"
   ]
  },
  {
   "cell_type": "markdown",
   "metadata": {},
   "source": [
    "## Bài tập 3: Tạo một bảng chứa các môn học mà bạn yêu thích bao gồm các cột: stt, tên khóa học, thời lượng"
   ]
  },
  {
   "cell_type": "markdown",
   "metadata": {},
   "source": [
    "| STT   |      Tên khóa học      |  Thời lượng |\n",
    "|:---:|:---:|:---:|\n",
    "| 1 | Fundamentals of Python | 36 |\n",
    "| 2 | Python for Machine Learning, Data Science & Data Visualization |   36 |\n",
    "| 3 | Maths & Statistic for Data Science | 32 |\n",
    "| 4 | Databases & SQL for Data Science | 32 |\n",
    "| 5 | Data Preprocessing & Analysis | 40 |\n",
    "| 6 | Machine Learning with Python | 48 |\n",
    "| 7 | R Programming Language for Data Science | 48 |\n",
    "| 8 | Big Data in Machine Learning | 36 |\n",
    "| 9 | Capstone Project | 50|"
   ]
  },
  {
   "cell_type": "code",
   "execution_count": null,
   "metadata": {},
   "outputs": [],
   "source": []
  }
 ],
 "metadata": {
  "kernelspec": {
   "display_name": "Python 3",
   "language": "python",
   "name": "python3"
  },
  "language_info": {
   "codemirror_mode": {
    "name": "ipython",
    "version": 3
   },
   "file_extension": ".py",
   "mimetype": "text/x-python",
   "name": "python",
   "nbconvert_exporter": "python",
   "pygments_lexer": "ipython3",
   "version": "3.6.8"
  }
 },
 "nbformat": 4,
 "nbformat_minor": 2
}
