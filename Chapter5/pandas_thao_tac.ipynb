{
 "cells": [
  {
   "cell_type": "code",
   "execution_count": 15,
   "metadata": {},
   "outputs": [],
   "source": [
    "%config IPCompleter.greedy = True"
   ]
  },
  {
   "cell_type": "code",
   "execution_count": 16,
   "metadata": {},
   "outputs": [],
   "source": [
    "import numpy as np\n",
    "import pandas as pd"
   ]
  },
  {
   "cell_type": "code",
   "execution_count": 17,
   "metadata": {},
   "outputs": [
    {
     "name": "stdout",
     "output_type": "stream",
     "text": [
      "(16, 6) <class 'pandas.core.frame.DataFrame'>\n"
     ]
    }
   ],
   "source": [
    "df = pd.read_excel('du_lieu_5.xlsx')\n",
    "print(df.shape, type(df))"
   ]
  },
  {
   "cell_type": "code",
   "execution_count": 18,
   "metadata": {},
   "outputs": [
    {
     "name": "stdout",
     "output_type": "stream",
     "text": [
      "               Name Team        Position  Height  Weight    Age\n",
      "0     Adam_Donachie  BAL         Catcher      74     180  22.99\n",
      "1         Paul_Bako  BAL         Catcher      74     215  34.69\n",
      "2   Ramon_Hernandez  BAL         Catcher      72     210  30.78\n",
      "3      Kevin_Millar  BAL   First_Baseman      72     210  35.43\n",
      "4       Chris_Gomez  BAL   First_Baseman      73     188  35.71\n",
      "5     Brian_Roberts  BAL  Second_Baseman      69     176  29.39\n",
      "6     Miguel_Tejada  BAL       Shortstop      69     209  30.77\n",
      "7       Melvin_Mora  BAL   Third_Baseman      71     200  35.07\n",
      "8       Aubrey_Huff  BAL   Third_Baseman      76     231  30.19\n",
      "9        Adam_Stern  BAL      Outfielder      71     180  27.05\n",
      "10  Jeff_Fiorentino  BAL      Outfielder      73     188  23.88\n",
      "11    Freddie_Bynum  BAL      Outfielder      73     180  26.96\n",
      "12    Nick_Markakis  BAL      Outfielder      74     185  23.29\n",
      "13    Brandon_Fahey  BAL      Outfielder      74     160  26.11\n",
      "14  Corey_Patterson  BAL      Outfielder      69     180  27.55\n",
      "15       Jay_Payton  BAL      Outfielder      70     185  34.27\n"
     ]
    }
   ],
   "source": [
    "print(df)"
   ]
  },
  {
   "cell_type": "code",
   "execution_count": 19,
   "metadata": {},
   "outputs": [
    {
     "name": "stdout",
     "output_type": "stream",
     "text": [
      "0     22.99\n",
      "1     34.69\n",
      "2     30.78\n",
      "3     35.43\n",
      "4     35.71\n",
      "5     29.39\n",
      "6     30.77\n",
      "7     35.07\n",
      "8     30.19\n",
      "9     27.05\n",
      "10    23.88\n",
      "11    26.96\n",
      "12    23.29\n",
      "13    26.11\n",
      "14    27.55\n",
      "15    34.27\n",
      "Name: Age, dtype: float64\n"
     ]
    }
   ],
   "source": [
    "tuoi = df['Age']\n",
    "print(tuoi)"
   ]
  },
  {
   "cell_type": "code",
   "execution_count": 20,
   "metadata": {},
   "outputs": [
    {
     "name": "stdout",
     "output_type": "stream",
     "text": [
      "               Name Team       Position  Height  Weight    Age\n",
      "1         Paul_Bako  BAL        Catcher      74     215  34.69\n",
      "2   Ramon_Hernandez  BAL        Catcher      72     210  30.78\n",
      "3      Kevin_Millar  BAL  First_Baseman      72     210  35.43\n",
      "4       Chris_Gomez  BAL  First_Baseman      73     188  35.71\n",
      "6     Miguel_Tejada  BAL      Shortstop      69     209  30.77\n",
      "7       Melvin_Mora  BAL  Third_Baseman      71     200  35.07\n",
      "8       Aubrey_Huff  BAL  Third_Baseman      76     231  30.19\n",
      "15       Jay_Payton  BAL     Outfielder      70     185  34.27\n"
     ]
    }
   ],
   "source": [
    "# tuoi lon hon 30\n",
    "tuoi_hon_30 = df[df['Age']>30]\n",
    "print(tuoi_hon_30)"
   ]
  },
  {
   "cell_type": "code",
   "execution_count": 21,
   "metadata": {},
   "outputs": [
    {
     "name": "stdout",
     "output_type": "stream",
     "text": [
      "              Name Team Position  Height  Weight    Age  Height_m\n",
      "0    Adam_Donachie  BAL  Catcher      74     180  22.99    1.8796\n",
      "1        Paul_Bako  BAL  Catcher      74     215  34.69    1.8796\n",
      "2  Ramon_Hernandez  BAL  Catcher      72     210  30.78    1.8288\n"
     ]
    }
   ],
   "source": [
    "df['Height_m'] = df['Height'] * 0.0254\n",
    "print(df.head(3))"
   ]
  },
  {
   "cell_type": "code",
   "execution_count": 22,
   "metadata": {},
   "outputs": [
    {
     "name": "stdout",
     "output_type": "stream",
     "text": [
      "               Name Team    Position  Height  Weight    Age  Height_m\n",
      "14  Corey_Patterson  BAL  Outfielder      69     180  27.55    1.7526\n",
      "15       Jay_Payton  BAL  Outfielder      70     185  34.27    1.7780\n",
      "16            Jonny  BAL     Catcher      74     180  22.99    1.8796\n"
     ]
    }
   ],
   "source": [
    "df.loc[df.shape[0]] = ['Jonny', 'BAL', 'Catcher', 74, 180, 22.99, 1.8796]\n",
    "print(df.tail(3))"
   ]
  },
  {
   "cell_type": "code",
   "execution_count": 23,
   "metadata": {},
   "outputs": [
    {
     "name": "stdout",
     "output_type": "stream",
     "text": [
      "               Name Team    Position  Height  Weight    Age  Height_m\n",
      "14  Corey_Patterson  BAL  Outfielder      69     180  27.55    1.7526\n",
      "15       Jay_Payton  BAL  Outfielder      70     185  34.27    1.7780\n",
      "16            Jonny  BAL     Catcher      74     180  22.99    1.8796\n"
     ]
    }
   ],
   "source": [
    "print(df.tail(3))"
   ]
  },
  {
   "cell_type": "code",
   "execution_count": 24,
   "metadata": {},
   "outputs": [
    {
     "name": "stdout",
     "output_type": "stream",
     "text": [
      "              Name Team Position  Height  Weight    Age\n",
      "0    Adam_Donachie  BAL  Catcher      74     180  22.99\n",
      "1        Paul_Bako  BAL  Catcher      74     215  34.69\n",
      "2  Ramon_Hernandez  BAL  Catcher      72     210  30.78\n"
     ]
    }
   ],
   "source": [
    "del df['Height_m']\n",
    "print(df.head(3))"
   ]
  },
  {
   "cell_type": "code",
   "execution_count": 27,
   "metadata": {},
   "outputs": [
    {
     "name": "stdout",
     "output_type": "stream",
     "text": [
      "               Name Team    Position  Height  Weight    Age\n",
      "13    Brandon_Fahey  BAL  Outfielder      74     160  26.11\n",
      "14  Corey_Patterson  BAL  Outfielder      69     180  27.55\n",
      "15       Jay_Payton  BAL  Outfielder      70     185  34.27\n"
     ]
    }
   ],
   "source": [
    "df = df.drop(df.index[[16]])\n",
    "print(df.tail(3))"
   ]
  },
  {
   "cell_type": "code",
   "execution_count": 28,
   "metadata": {},
   "outputs": [
    {
     "name": "stdout",
     "output_type": "stream",
     "text": [
      "               Name Team        Position  Height  Weight    Age\n",
      "0     Adam_Donachie  BAL         Catcher      74     180  22.99\n",
      "1         Paul_Bako  BAL         Catcher      74     215  34.69\n",
      "2   Ramon_Hernandez  BAL         Catcher      72     210  30.78\n",
      "3      Kevin_Millar  BAL   First_Baseman      72     210  35.43\n",
      "4       Chris_Gomez  BAL   First_Baseman      73     188  35.71\n",
      "5     Brian_Roberts  BAL  Second_Baseman      69     176  29.39\n",
      "6     Miguel_Tejada  BAL       Shortstop      69     209  30.77\n",
      "7       Melvin_Mora  BAL   Third_Baseman      71     200  35.07\n",
      "8       Aubrey_Huff  BAL   Third_Baseman      76     231  30.19\n",
      "9        Adam_Stern  BAL      Outfielder      71     180  27.05\n",
      "10  Jeff_Fiorentino  BAL      Outfielder      73     188  23.88\n",
      "11    Freddie_Bynum  BAL      Outfielder      73     180  26.96\n",
      "12    Nick_Markakis  BAL      Outfielder      74     185  23.29\n",
      "13    Brandon_Fahey  BAL      Outfielder      74     160  26.11\n",
      "14  Corey_Patterson  BAL      Outfielder      69     180  27.55\n",
      "15       Jay_Payton  BAL      Outfielder      70     185  34.27\n"
     ]
    }
   ],
   "source": [
    "print(df)"
   ]
  },
  {
   "cell_type": "code",
   "execution_count": 30,
   "metadata": {},
   "outputs": [
    {
     "data": {
      "text/html": [
       "<div>\n",
       "<style scoped>\n",
       "    .dataframe tbody tr th:only-of-type {\n",
       "        vertical-align: middle;\n",
       "    }\n",
       "\n",
       "    .dataframe tbody tr th {\n",
       "        vertical-align: top;\n",
       "    }\n",
       "\n",
       "    .dataframe thead th {\n",
       "        text-align: right;\n",
       "    }\n",
       "</style>\n",
       "<table border=\"1\" class=\"dataframe\">\n",
       "  <thead>\n",
       "    <tr style=\"text-align: right;\">\n",
       "      <th></th>\n",
       "      <th>Height</th>\n",
       "      <th>Weight</th>\n",
       "      <th>Age</th>\n",
       "    </tr>\n",
       "    <tr>\n",
       "      <th>Position</th>\n",
       "      <th></th>\n",
       "      <th></th>\n",
       "      <th></th>\n",
       "    </tr>\n",
       "  </thead>\n",
       "  <tbody>\n",
       "    <tr>\n",
       "      <th>Catcher</th>\n",
       "      <td>73.333333</td>\n",
       "      <td>201.666667</td>\n",
       "      <td>29.486667</td>\n",
       "    </tr>\n",
       "    <tr>\n",
       "      <th>First_Baseman</th>\n",
       "      <td>72.500000</td>\n",
       "      <td>199.000000</td>\n",
       "      <td>35.570000</td>\n",
       "    </tr>\n",
       "    <tr>\n",
       "      <th>Outfielder</th>\n",
       "      <td>72.000000</td>\n",
       "      <td>179.714286</td>\n",
       "      <td>27.015714</td>\n",
       "    </tr>\n",
       "    <tr>\n",
       "      <th>Second_Baseman</th>\n",
       "      <td>69.000000</td>\n",
       "      <td>176.000000</td>\n",
       "      <td>29.390000</td>\n",
       "    </tr>\n",
       "    <tr>\n",
       "      <th>Shortstop</th>\n",
       "      <td>69.000000</td>\n",
       "      <td>209.000000</td>\n",
       "      <td>30.770000</td>\n",
       "    </tr>\n",
       "    <tr>\n",
       "      <th>Third_Baseman</th>\n",
       "      <td>73.500000</td>\n",
       "      <td>215.500000</td>\n",
       "      <td>32.630000</td>\n",
       "    </tr>\n",
       "  </tbody>\n",
       "</table>\n",
       "</div>"
      ],
      "text/plain": [
       "                   Height      Weight        Age\n",
       "Position                                        \n",
       "Catcher         73.333333  201.666667  29.486667\n",
       "First_Baseman   72.500000  199.000000  35.570000\n",
       "Outfielder      72.000000  179.714286  27.015714\n",
       "Second_Baseman  69.000000  176.000000  29.390000\n",
       "Shortstop       69.000000  209.000000  30.770000\n",
       "Third_Baseman   73.500000  215.500000  32.630000"
      ]
     },
     "execution_count": 30,
     "metadata": {},
     "output_type": "execute_result"
    }
   ],
   "source": [
    "df.groupby('Position').mean()"
   ]
  },
  {
   "cell_type": "code",
   "execution_count": null,
   "metadata": {},
   "outputs": [],
   "source": []
  }
 ],
 "metadata": {
  "kernelspec": {
   "display_name": "Python 3",
   "language": "python",
   "name": "python3"
  },
  "language_info": {
   "codemirror_mode": {
    "name": "ipython",
    "version": 3
   },
   "file_extension": ".py",
   "mimetype": "text/x-python",
   "name": "python",
   "nbconvert_exporter": "python",
   "pygments_lexer": "ipython3",
   "version": "3.6.4"
  }
 },
 "nbformat": 4,
 "nbformat_minor": 2
}
