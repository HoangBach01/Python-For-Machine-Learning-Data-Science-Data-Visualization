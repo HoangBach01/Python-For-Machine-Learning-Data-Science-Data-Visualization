{
 "cells": [
  {
   "cell_type": "code",
   "execution_count": 1,
   "metadata": {},
   "outputs": [],
   "source": [
    "%config IPCompleter.greedy = True"
   ]
  },
  {
   "cell_type": "code",
   "execution_count": 2,
   "metadata": {},
   "outputs": [],
   "source": [
    "import numpy as np\n",
    "import pandas as pd"
   ]
  },
  {
   "cell_type": "code",
   "execution_count": 4,
   "metadata": {},
   "outputs": [
    {
     "name": "stdout",
     "output_type": "stream",
     "text": [
      "(10, 2) <class 'pandas.core.frame.DataFrame'>\n"
     ]
    }
   ],
   "source": [
    "df3 = pd.read_excel('du_lieu_1.xlsx', header=None)\n",
    "print(df3.shape, type(df3))"
   ]
  },
  {
   "cell_type": "code",
   "execution_count": 5,
   "metadata": {},
   "outputs": [
    {
     "name": "stdout",
     "output_type": "stream",
     "text": [
      "             0           1\n",
      "0    -0.349596    -2.01720\n",
      "1  9999.000000  9999.00000\n",
      "2  9999.000000  9999.00000\n",
      "3     0.113800     0.61610\n",
      "4     0.014700    -1.73166\n",
      "5  9999.000000  9999.00000\n",
      "6     1.233080     0.72010\n",
      "7  9999.000000  9999.00000\n",
      "8  9999.000000  9999.00000\n",
      "9  9999.000000  9999.00000\n"
     ]
    }
   ],
   "source": [
    "print(df3)"
   ]
  },
  {
   "cell_type": "code",
   "execution_count": 6,
   "metadata": {},
   "outputs": [],
   "source": [
    "# thay the gia tri 9999.0 bang 0\n",
    "df3 = df3.replace(9999.0, 0)"
   ]
  },
  {
   "cell_type": "code",
   "execution_count": 7,
   "metadata": {},
   "outputs": [
    {
     "name": "stdout",
     "output_type": "stream",
     "text": [
      "          0        1\n",
      "0 -0.349596 -2.01720\n",
      "1  0.000000  0.00000\n",
      "2  0.000000  0.00000\n",
      "3  0.113800  0.61610\n",
      "4  0.014700 -1.73166\n",
      "5  0.000000  0.00000\n",
      "6  1.233080  0.72010\n",
      "7  0.000000  0.00000\n",
      "8  0.000000  0.00000\n",
      "9  0.000000  0.00000\n"
     ]
    }
   ],
   "source": [
    "print(df3)"
   ]
  },
  {
   "cell_type": "code",
   "execution_count": 11,
   "metadata": {},
   "outputs": [
    {
     "name": "stdout",
     "output_type": "stream",
     "text": [
      "(7, 2) <class 'pandas.core.frame.DataFrame'>\n"
     ]
    }
   ],
   "source": [
    "df4 = pd.read_excel('du_lieu_2.xlsx', header=None)\n",
    "print(df4.shape, type(df4))"
   ]
  },
  {
   "cell_type": "code",
   "execution_count": 12,
   "metadata": {},
   "outputs": [
    {
     "name": "stdout",
     "output_type": "stream",
     "text": [
      "          0       1\n",
      "0 -0.349596 -2.0172\n",
      "1       NaN     NaN\n",
      "2  1.578300  0.6374\n",
      "3       NaN     NaN\n",
      "4       NaN     NaN\n",
      "5       NaN     NaN\n",
      "6 -1.145700  0.0529\n"
     ]
    }
   ],
   "source": [
    "print(df4)"
   ]
  },
  {
   "cell_type": "code",
   "execution_count": 14,
   "metadata": {},
   "outputs": [
    {
     "name": "stdout",
     "output_type": "stream",
     "text": [
      "          0       1\n",
      "0 -0.349596 -2.0172\n",
      "1 -0.349596 -2.0172\n",
      "2  1.578300  0.6374\n",
      "3  1.578300  0.6374\n",
      "4  1.578300  0.6374\n",
      "5  1.578300  0.6374\n",
      "6 -1.145700  0.0529\n"
     ]
    }
   ],
   "source": [
    "# dien gia tri tren\n",
    "df5 = df4.fillna(method='ffill')\n",
    "print(df5)"
   ]
  },
  {
   "cell_type": "code",
   "execution_count": 15,
   "metadata": {},
   "outputs": [
    {
     "name": "stdout",
     "output_type": "stream",
     "text": [
      "          0       1\n",
      "0 -0.349596 -2.0172\n",
      "1  1.578300  0.6374\n",
      "2  1.578300  0.6374\n",
      "3 -1.145700  0.0529\n",
      "4 -1.145700  0.0529\n",
      "5 -1.145700  0.0529\n",
      "6 -1.145700  0.0529\n"
     ]
    }
   ],
   "source": [
    "# dien gia tri duoi\n",
    "df6 = df4.fillna(method='backfill')\n",
    "print(df6)"
   ]
  },
  {
   "cell_type": "code",
   "execution_count": 16,
   "metadata": {},
   "outputs": [
    {
     "name": "stdout",
     "output_type": "stream",
     "text": [
      "(9, 3) <class 'pandas.core.frame.DataFrame'>\n"
     ]
    }
   ],
   "source": [
    "df7 = pd.read_excel('du_lieu_3.xlsx', header=None)\n",
    "print(df7.shape, type(df7))"
   ]
  },
  {
   "cell_type": "code",
   "execution_count": 18,
   "metadata": {},
   "outputs": [
    {
     "name": "stdout",
     "output_type": "stream",
     "text": [
      "          0        1        2\n",
      "0 -0.349596 -2.01720 -0.33450\n",
      "1       NaN      NaN  0.06800\n",
      "2  1.578300  0.63740  0.07521\n",
      "3       NaN      NaN -0.25890\n",
      "4       NaN      NaN  0.56550\n",
      "5       NaN      NaN -2.28520\n",
      "6 -1.145700  0.05290 -1.85410\n",
      "7  0.770500  0.08500 -0.68540\n",
      "8  0.097600  0.13705  1.25890\n"
     ]
    }
   ],
   "source": [
    "print(df7)"
   ]
  },
  {
   "cell_type": "code",
   "execution_count": 17,
   "metadata": {},
   "outputs": [
    {
     "name": "stdout",
     "output_type": "stream",
     "text": [
      "          0        1        2\n",
      "0 -0.349596 -2.01720 -0.33450\n",
      "2  1.578300  0.63740  0.07521\n",
      "6 -1.145700  0.05290 -1.85410\n",
      "7  0.770500  0.08500 -0.68540\n",
      "8  0.097600  0.13705  1.25890\n"
     ]
    }
   ],
   "source": [
    "# xoa dong du lieu co NaN\n",
    "df8 = df7.dropna(axis = 0)\n",
    "print(df8)"
   ]
  },
  {
   "cell_type": "code",
   "execution_count": 19,
   "metadata": {},
   "outputs": [
    {
     "name": "stdout",
     "output_type": "stream",
     "text": [
      "         2\n",
      "0 -0.33450\n",
      "1  0.06800\n",
      "2  0.07521\n",
      "3 -0.25890\n",
      "4  0.56550\n",
      "5 -2.28520\n",
      "6 -1.85410\n",
      "7 -0.68540\n",
      "8  1.25890\n"
     ]
    }
   ],
   "source": [
    "# xoa cot du lieu co NaN\n",
    "df9 = df7.dropna(axis = 1)\n",
    "print(df9)"
   ]
  },
  {
   "cell_type": "code",
   "execution_count": 21,
   "metadata": {},
   "outputs": [
    {
     "name": "stdout",
     "output_type": "stream",
     "text": [
      "          0         1        2\n",
      "0 -0.349596 -2.017200 -0.33450\n",
      "1  0.614352 -0.689900  0.06800\n",
      "2  1.578300  0.637400  0.07521\n",
      "3  0.897300  0.491275 -0.25890\n",
      "4  0.216300  0.345150  0.56550\n",
      "5 -0.464700  0.199025 -2.28520\n",
      "6 -1.145700  0.052900 -1.85410\n",
      "7  0.770500  0.085000 -0.68540\n",
      "8  0.097600  0.137050  1.25890\n"
     ]
    }
   ],
   "source": [
    "df10 = df7.interpolate()\n",
    "print(df10)"
   ]
  },
  {
   "cell_type": "code",
   "execution_count": null,
   "metadata": {},
   "outputs": [],
   "source": []
  }
 ],
 "metadata": {
  "kernelspec": {
   "display_name": "Python 3",
   "language": "python",
   "name": "python3"
  },
  "language_info": {
   "codemirror_mode": {
    "name": "ipython",
    "version": 3
   },
   "file_extension": ".py",
   "mimetype": "text/x-python",
   "name": "python",
   "nbconvert_exporter": "python",
   "pygments_lexer": "ipython3",
   "version": "3.6.4"
  }
 },
 "nbformat": 4,
 "nbformat_minor": 2
}
