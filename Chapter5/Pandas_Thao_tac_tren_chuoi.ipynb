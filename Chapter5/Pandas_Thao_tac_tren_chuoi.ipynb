{
 "cells": [
  {
   "cell_type": "code",
   "execution_count": 9,
   "metadata": {},
   "outputs": [],
   "source": [
    "%config IPCompleter.greedy = True\n",
    "import numpy as np\n",
    "import pandas as pd"
   ]
  },
  {
   "cell_type": "code",
   "execution_count": 10,
   "metadata": {},
   "outputs": [
    {
     "name": "stdout",
     "output_type": "stream",
     "text": [
      "(4, 4) <class 'pandas.core.frame.DataFrame'>\n"
     ]
    }
   ],
   "source": [
    "# cắt chuỗi thành các phần tử của list\n",
    "xlsx = pd.ExcelFile('du_lieu_6.xlsx')\n",
    "df_right = pd.read_excel(xlsx, 'right')\n",
    "print(df_right.shape, type(df_right))"
   ]
  },
  {
   "cell_type": "code",
   "execution_count": 11,
   "metadata": {},
   "outputs": [
    {
     "name": "stdout",
     "output_type": "stream",
     "text": [
      "  _key1 _key2 hide_date profession\n",
      "0    K0    z0       h_0        p_0\n",
      "1    K1    z1       h_1        p_1\n",
      "2    K2    z2       h_2        p_2\n",
      "3    K3    z3       h_3        p_3\n"
     ]
    }
   ],
   "source": [
    "print(df_right)"
   ]
  },
  {
   "cell_type": "code",
   "execution_count": 12,
   "metadata": {},
   "outputs": [
    {
     "name": "stdout",
     "output_type": "stream",
     "text": [
      "(4, 4) <class 'pandas.core.frame.DataFrame'>\n"
     ]
    }
   ],
   "source": [
    "xlsx = pd.ExcelFile('du_lieu_6.xlsx')\n",
    "df_left = pd.read_excel(xlsx, 'left')\n",
    "print(df_left.shape, type(df_left))"
   ]
  },
  {
   "cell_type": "code",
   "execution_count": 13,
   "metadata": {},
   "outputs": [
    {
     "name": "stdout",
     "output_type": "stream",
     "text": [
      "  _key1 _key2    city user_name hide_date profession\n",
      "0    K0    z0  city_0    user_0       h_0        p_0\n",
      "1    K1    z1  city_1    user_1       h_1        p_1\n",
      "2    K2    z2  city_2    user_2       h_2        p_2\n",
      "3    K3    z3  city_3    user_3       h_3        p_3\n"
     ]
    }
   ],
   "source": [
    "df_merge = pd.merge(df_left, df_right, how='inner')\n",
    "print(df_merge)"
   ]
  },
  {
   "cell_type": "code",
   "execution_count": 19,
   "metadata": {
    "scrolled": true
   },
   "outputs": [
    {
     "name": "stdout",
     "output_type": "stream",
     "text": [
      "0    [city, 0]\n",
      "1    [city, 1]\n",
      "2    [city, 2]\n",
      "3    [city, 3]\n",
      "Name: city, dtype: object\n"
     ]
    }
   ],
   "source": [
    "city = df_merge['city'].str.split('_')\n",
    "print(city)"
   ]
  },
  {
   "cell_type": "code",
   "execution_count": 24,
   "metadata": {},
   "outputs": [
    {
     "data": {
      "text/plain": [
       "'2'"
      ]
     },
     "execution_count": 24,
     "metadata": {},
     "output_type": "execute_result"
    }
   ],
   "source": [
    "city[2][1]"
   ]
  },
  {
   "cell_type": "code",
   "execution_count": 25,
   "metadata": {},
   "outputs": [
    {
     "name": "stdout",
     "output_type": "stream",
     "text": [
      "0    False\n",
      "1    False\n",
      "2     True\n",
      "3    False\n",
      "Name: city, dtype: bool\n"
     ]
    }
   ],
   "source": [
    "city_find = df_merge['city'].str.contains(\"2\")\n",
    "print(city_find)"
   ]
  },
  {
   "cell_type": "code",
   "execution_count": 26,
   "metadata": {},
   "outputs": [
    {
     "name": "stdout",
     "output_type": "stream",
     "text": [
      "0    city No 0\n",
      "1    city No 1\n",
      "2    city No 2\n",
      "3    city No 3\n",
      "Name: city, dtype: object\n"
     ]
    }
   ],
   "source": [
    "city_new = df_merge['city'].str.replace('_', ' No ')\n",
    "print(city_new)"
   ]
  },
  {
   "cell_type": "code",
   "execution_count": 27,
   "metadata": {},
   "outputs": [
    {
     "name": "stdout",
     "output_type": "stream",
     "text": [
      "  _key1 _key2    city user_name\n",
      "0    K0    z0  city_0    user_0\n",
      "1    K1    z1  city_1    user_1\n",
      "2    K2    z2  city_2    user_2\n",
      "3    K3    z3  city_3    user_3\n"
     ]
    }
   ],
   "source": [
    "print(df_left)"
   ]
  },
  {
   "cell_type": "code",
   "execution_count": 43,
   "metadata": {},
   "outputs": [
    {
     "name": "stdout",
     "output_type": "stream",
     "text": [
      "<class 'pandas.core.frame.DataFrame'>\n",
      "      0\n",
      "0  city\n",
      "1  city\n",
      "2  city\n",
      "3  city\n"
     ]
    }
   ],
   "source": [
    "city_extract = df_left['city'].str.extract('([a-z]{0,})', expand=True)\n",
    "print(type(city_extract))\n",
    "print(city_extract)"
   ]
  },
  {
   "cell_type": "code",
   "execution_count": 44,
   "metadata": {},
   "outputs": [
    {
     "name": "stdout",
     "output_type": "stream",
     "text": [
      "<class 'pandas.core.series.Series'>\n",
      "0    0\n",
      "1    1\n",
      "2    2\n",
      "3    3\n",
      "Name: city, dtype: object\n"
     ]
    }
   ],
   "source": [
    "city_num = df_left['city'].str.extract('(\\d)', expand=False)\n",
    "print(type(city_num))\n",
    "print(city_num)"
   ]
  },
  {
   "cell_type": "code",
   "execution_count": null,
   "metadata": {},
   "outputs": [],
   "source": []
  }
 ],
 "metadata": {
  "kernelspec": {
   "display_name": "Python 3",
   "language": "python",
   "name": "python3"
  },
  "language_info": {
   "codemirror_mode": {
    "name": "ipython",
    "version": 3
   },
   "file_extension": ".py",
   "mimetype": "text/x-python",
   "name": "python",
   "nbconvert_exporter": "python",
   "pygments_lexer": "ipython3",
   "version": "3.6.4"
  }
 },
 "nbformat": 4,
 "nbformat_minor": 2
}
