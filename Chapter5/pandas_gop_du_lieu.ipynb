{
 "cells": [
  {
   "cell_type": "code",
   "execution_count": 1,
   "metadata": {},
   "outputs": [],
   "source": [
    "%config IPCompleter.greedy = True"
   ]
  },
  {
   "cell_type": "code",
   "execution_count": 2,
   "metadata": {},
   "outputs": [],
   "source": [
    "import numpy as np\n",
    "import pandas as pd"
   ]
  },
  {
   "cell_type": "code",
   "execution_count": 3,
   "metadata": {},
   "outputs": [
    {
     "name": "stdout",
     "output_type": "stream",
     "text": [
      "(4, 4) <class 'pandas.core.frame.DataFrame'>\n"
     ]
    }
   ],
   "source": [
    "xlsx = pd.ExcelFile('du_lieu_6.xlsx')\n",
    "df_left = pd.read_excel(xlsx, 'left')\n",
    "print(df_left.shape, type(df_left))"
   ]
  },
  {
   "cell_type": "code",
   "execution_count": 4,
   "metadata": {},
   "outputs": [
    {
     "name": "stdout",
     "output_type": "stream",
     "text": [
      "(4, 4) <class 'pandas.core.frame.DataFrame'>\n"
     ]
    }
   ],
   "source": [
    "df_right = pd.read_excel(xlsx, 'right')\n",
    "print(df_right.shape, type(df_right))"
   ]
  },
  {
   "cell_type": "code",
   "execution_count": 5,
   "metadata": {},
   "outputs": [
    {
     "name": "stdout",
     "output_type": "stream",
     "text": [
      "  _key1 _key2    city user_name\n",
      "0    K0    z0  city_0    user_0\n",
      "1    K1    z1  city_1    user_1\n",
      "2    K2    z2  city_2    user_2\n",
      "3    K3    z3  city_3    user_3\n"
     ]
    }
   ],
   "source": [
    "print(df_left)"
   ]
  },
  {
   "cell_type": "code",
   "execution_count": 6,
   "metadata": {},
   "outputs": [
    {
     "name": "stdout",
     "output_type": "stream",
     "text": [
      "  _key1 _key2 hide_date profession\n",
      "0    K0    z0       h_0        p_0\n",
      "1    K1    z1       h_1        p_1\n",
      "2    K2    z2       h_2        p_2\n",
      "3    K3    z3       h_3        p_3\n"
     ]
    }
   ],
   "source": [
    "print(df_right)"
   ]
  },
  {
   "cell_type": "code",
   "execution_count": 7,
   "metadata": {},
   "outputs": [
    {
     "name": "stdout",
     "output_type": "stream",
     "text": [
      "  _key1 _key2    city user_name\n",
      "0    K0    z0  city_0    user_0\n",
      "1    K1    z1  city_1    user_1\n",
      "2    K2    z2  city_2    user_2\n",
      "3    K3    z3  city_3    user_3\n",
      "0    K0    z0  city_0    user_0\n",
      "1    K1    z1  city_1    user_1\n",
      "2    K2    z2  city_2    user_2\n",
      "3    K3    z3  city_3    user_3\n"
     ]
    }
   ],
   "source": [
    "# gộp 2 dữ liệu cùng cột\n",
    "df_1 = pd.concat([df_left, df_left])\n",
    "print(df_1)"
   ]
  },
  {
   "cell_type": "code",
   "execution_count": 8,
   "metadata": {},
   "outputs": [
    {
     "name": "stdout",
     "output_type": "stream",
     "text": [
      "  _key1 _key2    city hide_date profession user_name\n",
      "0    K0    z0  city_0       NaN        NaN    user_0\n",
      "1    K1    z1  city_1       NaN        NaN    user_1\n",
      "2    K2    z2  city_2       NaN        NaN    user_2\n",
      "3    K3    z3  city_3       NaN        NaN    user_3\n",
      "0    K0    z0     NaN       h_0        p_0       NaN\n",
      "1    K1    z1     NaN       h_1        p_1       NaN\n",
      "2    K2    z2     NaN       h_2        p_2       NaN\n",
      "3    K3    z3     NaN       h_3        p_3       NaN\n"
     ]
    }
   ],
   "source": [
    "# gộp 2 dữ liệu khác cột\n",
    "df_2 = pd.concat([df_left, df_right])\n",
    "print(df_2)"
   ]
  },
  {
   "cell_type": "code",
   "execution_count": 10,
   "metadata": {},
   "outputs": [
    {
     "name": "stdout",
     "output_type": "stream",
     "text": [
      "  _key1 _key2    city user_name _key1 _key2 hide_date profession\n",
      "0    K0    z0  city_0    user_0    K0    z0       h_0        p_0\n",
      "1    K1    z1  city_1    user_1    K1    z1       h_1        p_1\n",
      "2    K2    z2  city_2    user_2    K2    z2       h_2        p_2\n",
      "3    K3    z3  city_3    user_3    K3    z3       h_3        p_3\n"
     ]
    }
   ],
   "source": [
    "df3 = pd.concat([df_left, df_right], axis=1, join='inner')\n",
    "print(df3)"
   ]
  },
  {
   "cell_type": "code",
   "execution_count": 11,
   "metadata": {},
   "outputs": [
    {
     "name": "stdout",
     "output_type": "stream",
     "text": [
      "  _key1 _key2    city hide_date profession user_name\n",
      "0    K0    z0  city_0       NaN        NaN    user_0\n",
      "1    K1    z1  city_1       NaN        NaN    user_1\n",
      "2    K2    z2  city_2       NaN        NaN    user_2\n",
      "3    K3    z3  city_3       NaN        NaN    user_3\n",
      "0    K0    z0     NaN       h_0        p_0       NaN\n",
      "1    K1    z1     NaN       h_1        p_1       NaN\n",
      "2    K2    z2     NaN       h_2        p_2       NaN\n",
      "3    K3    z3     NaN       h_3        p_3       NaN\n"
     ]
    }
   ],
   "source": [
    "df = df_left.append(df_right)\n",
    "print(df)"
   ]
  },
  {
   "cell_type": "code",
   "execution_count": 12,
   "metadata": {},
   "outputs": [
    {
     "name": "stdout",
     "output_type": "stream",
     "text": [
      "  _key1 _key2    city user_name hide_date profession\n",
      "0    K0    z0  city_0    user_0       h_0        p_0\n",
      "1    K1    z1  city_1    user_1       h_1        p_1\n",
      "2    K2    z2  city_2    user_2       h_2        p_2\n",
      "3    K3    z3  city_3    user_3       h_3        p_3\n"
     ]
    }
   ],
   "source": [
    "df_merge = pd.merge(df_left, df_right, how='inner')\n",
    "print(df_merge)"
   ]
  },
  {
   "cell_type": "code",
   "execution_count": null,
   "metadata": {},
   "outputs": [],
   "source": []
  }
 ],
 "metadata": {
  "kernelspec": {
   "display_name": "Python 3",
   "language": "python",
   "name": "python3"
  },
  "language_info": {
   "codemirror_mode": {
    "name": "ipython",
    "version": 3
   },
   "file_extension": ".py",
   "mimetype": "text/x-python",
   "name": "python",
   "nbconvert_exporter": "python",
   "pygments_lexer": "ipython3",
   "version": "3.6.4"
  }
 },
 "nbformat": 4,
 "nbformat_minor": 2
}
