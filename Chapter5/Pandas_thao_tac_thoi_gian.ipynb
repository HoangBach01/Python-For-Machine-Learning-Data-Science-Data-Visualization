{
 "cells": [
  {
   "cell_type": "code",
   "execution_count": 25,
   "metadata": {},
   "outputs": [],
   "source": [
    "%config ITCompleter.greedy = True\n",
    "import numpy as np\n",
    "import pandas as pd"
   ]
  },
  {
   "cell_type": "code",
   "execution_count": 26,
   "metadata": {},
   "outputs": [
    {
     "name": "stdout",
     "output_type": "stream",
     "text": [
      "(1296, 4) <class 'pandas.core.frame.DataFrame'>\n",
      "userId        int64\n",
      "movieId       int64\n",
      "tag          object\n",
      "timestamp     int64\n",
      "dtype: object\n"
     ]
    }
   ],
   "source": [
    "xlsx = pd.ExcelFile('movies.xlsx')\n",
    "tags = pd.read_excel(xlsx, 'tags')\n",
    "print(tags.shape, type(tags))\n",
    "print(tags.dtypes)"
   ]
  },
  {
   "cell_type": "code",
   "execution_count": 27,
   "metadata": {},
   "outputs": [
    {
     "name": "stdout",
     "output_type": "stream",
     "text": [
      "   userId  movieId                      tag   timestamp\n",
      "0      15      339  sandra 'boring' bullock  1138537770\n",
      "1      15     1955                  dentist  1193435061\n",
      "2      15     7478                 Cambodia  1170560997\n",
      "3      15    32892                  Russian  1170626366\n",
      "4      15    34162              forgettable  1141391765\n"
     ]
    }
   ],
   "source": [
    "tags_sub = tags.head(5)\n",
    "print(tags_sub)"
   ]
  },
  {
   "cell_type": "code",
   "execution_count": 28,
   "metadata": {},
   "outputs": [
    {
     "name": "stdout",
     "output_type": "stream",
     "text": [
      "   userId  movieId                      tag   timestamp         parsed_time\n",
      "0      15      339  sandra 'boring' bullock  1138537770 2006-01-29 12:29:30\n",
      "1      15     1955                  dentist  1193435061 2007-10-26 21:44:21\n",
      "2      15     7478                 Cambodia  1170560997 2007-02-04 03:49:57\n",
      "3      15    32892                  Russian  1170626366 2007-02-04 21:59:26\n",
      "4      15    34162              forgettable  1141391765 2006-03-03 13:16:05\n"
     ]
    }
   ],
   "source": [
    "# doi thoi gian\n",
    "tags_sub = tags_sub.copy()\n",
    "tags_sub['parsed_time'] = pd.to_datetime(tags_sub['timestamp'], unit='s')\n",
    "print(tags_sub)"
   ]
  },
  {
   "cell_type": "code",
   "execution_count": 29,
   "metadata": {},
   "outputs": [
    {
     "name": "stdout",
     "output_type": "stream",
     "text": [
      "0    False\n",
      "1     True\n",
      "2     True\n",
      "3     True\n",
      "4    False\n",
      "Name: parsed_time, dtype: bool\n",
      "   userId  movieId       tag   timestamp         parsed_time\n",
      "1      15     1955   dentist  1193435061 2007-10-26 21:44:21\n",
      "2      15     7478  Cambodia  1170560997 2007-02-04 03:49:57\n",
      "3      15    32892   Russian  1170626366 2007-02-04 21:59:26\n"
     ]
    }
   ],
   "source": [
    "year_t = tags_sub['parsed_time'] > '2007-01-01'\n",
    "print(year_t)\n",
    "selected_rows = tags_sub[year_t]\n",
    "print(selected_rows)"
   ]
  },
  {
   "cell_type": "code",
   "execution_count": 32,
   "metadata": {},
   "outputs": [
    {
     "name": "stdout",
     "output_type": "stream",
     "text": [
      "   userId  movieId                      tag   timestamp         parsed_time\n",
      "0      15      339  sandra 'boring' bullock  1138537770 2006-01-29 12:29:30\n",
      "4      15    34162              forgettable  1141391765 2006-03-03 13:16:05\n",
      "2      15     7478                 Cambodia  1170560997 2007-02-04 03:49:57\n",
      "3      15    32892                  Russian  1170626366 2007-02-04 21:59:26\n",
      "1      15     1955                  dentist  1193435061 2007-10-26 21:44:21\n"
     ]
    }
   ],
   "source": [
    "tags_sub = tags_sub.sort_values(by='parsed_time', ascending=True)\n",
    "print(tags_sub)"
   ]
  },
  {
   "cell_type": "code",
   "execution_count": null,
   "metadata": {},
   "outputs": [],
   "source": []
  }
 ],
 "metadata": {
  "kernelspec": {
   "display_name": "Python 3",
   "language": "python",
   "name": "python3"
  },
  "language_info": {
   "codemirror_mode": {
    "name": "ipython",
    "version": 3
   },
   "file_extension": ".py",
   "mimetype": "text/x-python",
   "name": "python",
   "nbconvert_exporter": "python",
   "pygments_lexer": "ipython3",
   "version": "3.6.4"
  }
 },
 "nbformat": 4,
 "nbformat_minor": 2
}
