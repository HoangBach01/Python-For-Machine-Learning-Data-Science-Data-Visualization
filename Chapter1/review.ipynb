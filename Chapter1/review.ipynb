{
 "cells": [
  {
   "cell_type": "code",
   "execution_count": 1,
   "metadata": {
    "colab": {},
    "colab_type": "code",
    "id": "zQnmAwF56f-F",
    "outputId": "9fbb5c7a-ec96-4f16-a907-ff9053ff5b0b"
   },
   "outputs": [
    {
     "output_type": "execute_result",
     "data": {
      "text/plain": "'skdjf sdfjhskldjfh dskfjhfgkljh'"
     },
     "metadata": {},
     "execution_count": 1
    }
   ],
   "source": [
    "content = input(\"Input document: \")\n",
    "content"
   ]
  },
  {
   "cell_type": "code",
   "execution_count": 2,
   "metadata": {
    "colab": {},
    "colab_type": "code",
    "id": "SgG3B1W56f-S",
    "outputId": "6ff09909-e139-4e09-8852-8f1b9d8db306",
    "tags": []
   },
   "outputs": [
    {
     "output_type": "stream",
     "name": "stdout",
     "text": "['skdjf', 'sdfjhskldjfh', 'dskfjhfgkljh']\n"
    }
   ],
   "source": [
    "document_list = content.split(\" \")\n",
    "print(document_list)"
   ]
  },
  {
   "cell_type": "code",
   "execution_count": 3,
   "metadata": {
    "colab": {},
    "colab_type": "code",
    "id": "-qoV_t9l6f-Z"
   },
   "outputs": [],
   "source": [
    "def tao_dictionaty(document):\n",
    "    dic = {}\n",
    "    document_list = document.split(\" \")\n",
    "    for item in document_list:\n",
    "        if item in dic.keys():\n",
    "            dic[item] +=1\n",
    "        else:\n",
    "            dic[item] = 1\n",
    "    return dic"
   ]
  },
  {
   "cell_type": "code",
   "execution_count": 4,
   "metadata": {
    "colab": {},
    "colab_type": "code",
    "id": "UCakLtdI6f-f",
    "outputId": "fec16a2b-d615-4931-959a-580830ab158c",
    "tags": []
   },
   "outputs": [
    {
     "output_type": "stream",
     "name": "stdout",
     "text": "{'skdjf': 1, 'sdfjhskldjfh': 1, 'dskfjhfgkljh': 1}\n"
    }
   ],
   "source": [
    "dic = tao_dictionaty(content)\n",
    "print(dic)"
   ]
  },
  {
   "cell_type": "code",
   "execution_count": 5,
   "metadata": {
    "colab": {},
    "colab_type": "code",
    "id": "s1ahkT5v6f-n",
    "outputId": "f8efe4f3-6f54-4f46-b726-57483467d09d",
    "tags": []
   },
   "outputs": [
    {
     "output_type": "stream",
     "name": "stdout",
     "text": "skdjf\n"
    }
   ],
   "source": [
    "item_max = max(dic, key=dic.get)\n",
    "print(item_max)"
   ]
  },
  {
   "cell_type": "code",
   "execution_count": 6,
   "metadata": {
    "colab": {},
    "colab_type": "code",
    "id": "NCGCNFDU6f-u",
    "outputId": "ee05b843-e2ed-4048-c6f6-57c65b00d34b",
    "tags": []
   },
   "outputs": [
    {
     "output_type": "stream",
     "name": "stdout",
     "text": "1\n"
    }
   ],
   "source": [
    "gia_tri_max = dic[item_max]\n",
    "print(gia_tri_max)"
   ]
  },
  {
   "cell_type": "code",
   "execution_count": 0,
   "metadata": {
    "colab": {},
    "colab_type": "code",
    "id": "ciZe2PnH6f-1"
   },
   "outputs": [],
   "source": []
  }
 ],
 "metadata": {
  "colab": {
   "name": "review.ipynb",
   "provenance": [],
   "version": "0.3.2"
  },
  "kernelspec": {
   "display_name": "Python 3",
   "language": "python",
   "name": "python3"
  },
  "language_info": {
   "codemirror_mode": {
    "name": "ipython",
    "version": 3
   },
   "file_extension": ".py",
   "mimetype": "text/x-python",
   "name": "python",
   "nbconvert_exporter": "python",
   "pygments_lexer": "ipython3",
   "version": "3.7.6-final"
  }
 },
 "nbformat": 4,
 "nbformat_minor": 1
}