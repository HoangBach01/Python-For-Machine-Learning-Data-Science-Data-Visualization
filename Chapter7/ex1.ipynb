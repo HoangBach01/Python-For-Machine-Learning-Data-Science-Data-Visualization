{
 "cells": [
  {
   "cell_type": "code",
   "execution_count": 1,
   "metadata": {},
   "outputs": [],
   "source": [
    "# import all modules\n",
    "import pandas as pd\n",
    "import seaborn as sb\n",
    "import matplotlib.pyplot as plt"
   ]
  },
  {
   "cell_type": "code",
   "execution_count": 2,
   "metadata": {},
   "outputs": [
    {
     "name": "stdout",
     "output_type": "stream",
     "text": [
      "<class 'pandas.core.frame.DataFrame'>\n",
      "Int64Index: 757 entries, 0 to 830\n",
      "Data columns (total 7 columns):\n",
      "School Name       757 non-null object\n",
      "City              757 non-null object\n",
      "State             757 non-null object\n",
      "District Name     757 non-null object\n",
      "Model Selected    757 non-null object\n",
      "Award_Amount      757 non-null int64\n",
      "Region            747 non-null object\n",
      "dtypes: int64(1), object(6)\n",
      "memory usage: 47.3+ KB\n"
     ]
    }
   ],
   "source": [
    "# Read in the DataFrame\n",
    "df = pd.read_csv(\"dataset/schoolimprovement2010grants.csv\", index_col=0)\n",
    "df.info()"
   ]
  },
  {
   "cell_type": "code",
   "execution_count": 3,
   "metadata": {},
   "outputs": [
    {
     "data": {
      "text/html": [
       "<div>\n",
       "<style scoped>\n",
       "    .dataframe tbody tr th:only-of-type {\n",
       "        vertical-align: middle;\n",
       "    }\n",
       "\n",
       "    .dataframe tbody tr th {\n",
       "        vertical-align: top;\n",
       "    }\n",
       "\n",
       "    .dataframe thead th {\n",
       "        text-align: right;\n",
       "    }\n",
       "</style>\n",
       "<table border=\"1\" class=\"dataframe\">\n",
       "  <thead>\n",
       "    <tr style=\"text-align: right;\">\n",
       "      <th></th>\n",
       "      <th>School Name</th>\n",
       "      <th>City</th>\n",
       "      <th>State</th>\n",
       "      <th>District Name</th>\n",
       "      <th>Model Selected</th>\n",
       "      <th>Award_Amount</th>\n",
       "      <th>Region</th>\n",
       "    </tr>\n",
       "  </thead>\n",
       "  <tbody>\n",
       "    <tr>\n",
       "      <th>0</th>\n",
       "      <td>HOGARTH KINGEEKUK MEMORIAL SCHOOL</td>\n",
       "      <td>SAVOONGA</td>\n",
       "      <td>AK</td>\n",
       "      <td>BERING STRAIT SCHOOL DISTRICT</td>\n",
       "      <td>Transformation</td>\n",
       "      <td>471014</td>\n",
       "      <td>West</td>\n",
       "    </tr>\n",
       "    <tr>\n",
       "      <th>1</th>\n",
       "      <td>AKIACHAK SCHOOL</td>\n",
       "      <td>AKIACHAK</td>\n",
       "      <td>AK</td>\n",
       "      <td>YUPIIT SCHOOL DISTRICT</td>\n",
       "      <td>Transformation</td>\n",
       "      <td>520579</td>\n",
       "      <td>West</td>\n",
       "    </tr>\n",
       "    <tr>\n",
       "      <th>2</th>\n",
       "      <td>GAMBELL SCHOOL</td>\n",
       "      <td>GAMBELL</td>\n",
       "      <td>AK</td>\n",
       "      <td>BERING STRAIT SCHOOL DISTRICT</td>\n",
       "      <td>Transformation</td>\n",
       "      <td>449592</td>\n",
       "      <td>West</td>\n",
       "    </tr>\n",
       "    <tr>\n",
       "      <th>3</th>\n",
       "      <td>BURCHELL HIGH SCHOOL</td>\n",
       "      <td>WASILLA</td>\n",
       "      <td>AK</td>\n",
       "      <td>MATANUSKA-SUSITNA BOROUGH SCHOOL DISTRICT</td>\n",
       "      <td>Transformation</td>\n",
       "      <td>641184</td>\n",
       "      <td>West</td>\n",
       "    </tr>\n",
       "    <tr>\n",
       "      <th>4</th>\n",
       "      <td>AKIAK SCHOOL</td>\n",
       "      <td>AKIAK</td>\n",
       "      <td>AK</td>\n",
       "      <td>YUPIIT SCHOOL DISTRICT</td>\n",
       "      <td>Transformation</td>\n",
       "      <td>399686</td>\n",
       "      <td>West</td>\n",
       "    </tr>\n",
       "  </tbody>\n",
       "</table>\n",
       "</div>"
      ],
      "text/plain": [
       "                         School Name      City State  \\\n",
       "0  HOGARTH KINGEEKUK MEMORIAL SCHOOL  SAVOONGA    AK   \n",
       "1                    AKIACHAK SCHOOL  AKIACHAK    AK   \n",
       "2                     GAMBELL SCHOOL   GAMBELL    AK   \n",
       "3               BURCHELL HIGH SCHOOL   WASILLA    AK   \n",
       "4                       AKIAK SCHOOL     AKIAK    AK   \n",
       "\n",
       "                               District Name  Model Selected  Award_Amount  \\\n",
       "0              BERING STRAIT SCHOOL DISTRICT  Transformation        471014   \n",
       "1                     YUPIIT SCHOOL DISTRICT  Transformation        520579   \n",
       "2              BERING STRAIT SCHOOL DISTRICT  Transformation        449592   \n",
       "3  MATANUSKA-SUSITNA BOROUGH SCHOOL DISTRICT  Transformation        641184   \n",
       "4                     YUPIIT SCHOOL DISTRICT  Transformation        399686   \n",
       "\n",
       "  Region  \n",
       "0   West  \n",
       "1   West  \n",
       "2   West  \n",
       "3   West  \n",
       "4   West  "
      ]
     },
     "execution_count": 3,
     "metadata": {},
     "output_type": "execute_result"
    }
   ],
   "source": [
    "df.head()"
   ]
  },
  {
   "cell_type": "code",
   "execution_count": 4,
   "metadata": {},
   "outputs": [],
   "source": [
    "df1 = pd.read_csv(\"dataset/college_datav3.csv\")"
   ]
  },
  {
   "cell_type": "code",
   "execution_count": 5,
   "metadata": {},
   "outputs": [
    {
     "name": "stdout",
     "output_type": "stream",
     "text": [
      "<class 'pandas.core.frame.DataFrame'>\n",
      "RangeIndex: 6702 entries, 0 to 6701\n",
      "Data columns (total 24 columns):\n",
      "INSTNM              6702 non-null object\n",
      "OPEID               6702 non-null int64\n",
      "REGION              6702 non-null int64\n",
      "SAT_AVG_ALL         1387 non-null float64\n",
      "PCTPELL             6066 non-null float64\n",
      "PCTFLOAN            6066 non-null float64\n",
      "ADM_RATE_ALL        2180 non-null float64\n",
      "UG                  4367 non-null float64\n",
      "AVGFACSAL           4104 non-null float64\n",
      "COMPL_RPY_5YR_RT    5708 non-null object\n",
      "DEBT_MDN            6681 non-null object\n",
      "MEDIAN_HH_INC       4993 non-null object\n",
      "ICLEVEL             6702 non-null int64\n",
      "HIGHDEG             6702 non-null int64\n",
      "CONTROL             6702 non-null int64\n",
      "WOMENONLY           6368 non-null float64\n",
      "MENONLY             6368 non-null float64\n",
      "LOCALE              6368 non-null float64\n",
      "Tuition             5735 non-null float64\n",
      "Degree_Type         6702 non-null object\n",
      "Ownership           6702 non-null object\n",
      "Regions             6702 non-null object\n",
      "Locales             6368 non-null object\n",
      "Locale_Short        6365 non-null object\n",
      "dtypes: float64(10), int64(5), object(9)\n",
      "memory usage: 1.2+ MB\n"
     ]
    }
   ],
   "source": [
    "df1.info()"
   ]
  },
  {
   "cell_type": "code",
   "execution_count": 6,
   "metadata": {},
   "outputs": [
    {
     "name": "stderr",
     "output_type": "stream",
     "text": [
      "c:\\program files\\python36\\lib\\site-packages\\seaborn\\axisgrid.py:715: UserWarning: Using the pointplot function without specifying `order` is likely to produce an incorrect plot.\n",
      "  warnings.warn(warning)\n"
     ]
    },
    {
     "data": {
      "image/png": "[encoded data removed]",
      "text/plain": [
       "<Figure size 216x864 with 4 Axes>"
      ]
     },
     "metadata": {},
     "output_type": "display_data"
    },
    {
     "data": {
      "text/plain": [
       "<Figure size 432x288 with 0 Axes>"
      ]
     },
     "metadata": {},
     "output_type": "display_data"
    }
   ],
   "source": [
    "# Create FacetGrid with Degree_Type and specify the order of the rows using row_order\n",
    "g2 = sb.FacetGrid(df1,\n",
    "                   row=\"Degree_Type\",\n",
    "                   row_order=['Graduate', 'Bachelors', 'Associates', 'Certificate'])\n",
    "\n",
    "# Map a pointplot of SAT_AVG_ALL onto the grid\n",
    "g2.map(sb.pointplot, 'SAT_AVG_ALL')\n",
    "\n",
    "# Show the plot\n",
    "plt.show()\n",
    "plt.clf()"
   ]
  },
  {
   "cell_type": "markdown",
   "metadata": {},
   "source": [
    "Using a factorplot\n",
    "In many cases, Seaborn's factorplot() can be a simpler way to create a FacetGrid. Instead of creating a grid and mapping the plot, we can use the factorplot() to create a plot with one line of code.\n",
    "\n",
    "For this exercise, we will recreate one of the plots from the previous exercise using factorplot() and show how to create a boxplot on a data-aware grid."
   ]
  },
  {
   "cell_type": "code",
   "execution_count": 7,
   "metadata": {},
   "outputs": [
    {
     "name": "stderr",
     "output_type": "stream",
     "text": [
      "c:\\program files\\python36\\lib\\site-packages\\seaborn\\categorical.py:3666: UserWarning: The `factorplot` function has been renamed to `catplot`. The original name will be removed in a future release. Please update your code. Note that the default `kind` in `factorplot` (`'point'`) has changed `'strip'` in `catplot`.\n",
      "  warnings.warn(msg)\n"
     ]
    },
    {
     "data": {
      "image/png": "[encoded data removed]",
      "text/plain": [
       "<Figure size 360x1800 with 5 Axes>"
      ]
     },
     "metadata": {},
     "output_type": "display_data"
    },
    {
     "data": {
      "text/plain": [
       "<Figure size 432x288 with 0 Axes>"
      ]
     },
     "metadata": {},
     "output_type": "display_data"
    }
   ],
   "source": [
    "# Create a factor plot that contains boxplots of Tuition values\n",
    "sb.factorplot(data=df1,\n",
    "               x='Tuition',\n",
    "               kind='box',\n",
    "               row='Degree_Type')\n",
    "\n",
    "plt.show()\n",
    "plt.clf()"
   ]
  },
  {
   "cell_type": "markdown",
   "metadata": {},
   "source": [
    "In many cases, Seaborn's factorplot() can be a simpler way to create a FacetGrid. Instead of creating a grid and mapping the plot, we can use the factorplot() to create a plot with one line of code.\n",
    "\n",
    "For this exercise, we will recreate one of the plots from the previous exercise using factorplot() and show how to create a boxplot on a data-aware grid."
   ]
  },
  {
   "cell_type": "code",
   "execution_count": 8,
   "metadata": {},
   "outputs": [
    {
     "name": "stderr",
     "output_type": "stream",
     "text": [
      "c:\\program files\\python36\\lib\\site-packages\\seaborn\\categorical.py:3666: UserWarning: The `factorplot` function has been renamed to `catplot`. The original name will be removed in a future release. Please update your code. Note that the default `kind` in `factorplot` (`'point'`) has changed `'strip'` in `catplot`.\n",
      "  warnings.warn(msg)\n"
     ]
    },
    {
     "data": {
      "image/png": "[encoded data removed]",
      "text/plain": [
       "<Figure size 360x1440 with 4 Axes>"
      ]
     },
     "metadata": {},
     "output_type": "display_data"
    },
    {
     "data": {
      "text/plain": [
       "<Figure size 432x288 with 0 Axes>"
      ]
     },
     "metadata": {},
     "output_type": "display_data"
    }
   ],
   "source": [
    "# Create a facetted pointplot of Average SAT scores facetted by Degree Type \n",
    "sb.factorplot(data=df1,\n",
    "               x='SAT_AVG_ALL',\n",
    "               kind='point',\n",
    "               row='Degree_Type',\n",
    "               row_order=['Graduate', 'Bachelors', 'Associates', 'Certificate'])\n",
    "\n",
    "plt.show()\n",
    "plt.clf()"
   ]
  },
  {
   "cell_type": "code",
   "execution_count": null,
   "metadata": {},
   "outputs": [],
   "source": []
  }
 ],
 "metadata": {
  "kernelspec": {
   "display_name": "Python 3",
   "language": "python",
   "name": "python3"
  },
  "language_info": {
   "codemirror_mode": {
    "name": "ipython",
    "version": 3
   },
   "file_extension": ".py",
   "mimetype": "text/x-python",
   "name": "python",
   "nbconvert_exporter": "python",
   "pygments_lexer": "ipython3",
   "version": "3.6.6"
  }
 },
 "nbformat": 4,
 "nbformat_minor": 2
}
