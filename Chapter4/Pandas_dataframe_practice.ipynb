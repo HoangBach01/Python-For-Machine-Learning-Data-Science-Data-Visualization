{
 "cells": [
  {
   "cell_type": "markdown",
   "metadata": {},
   "source": [
    "### A Data frame is a two-dimensional data structure, i.e., data is aligned in a tabular fashion in rows and columns."
   ]
  },
  {
   "cell_type": "markdown",
   "metadata": {},
   "source": [
    "# Syntax:\n",
    "# pandas.DataFrame( data, index, columns, dtype, copy)\n",
    "### data: dữ liệu (list, dict, series, ndarray, dataframe)\n",
    "### index: danh sách các dòng;  index = ['tên dòng 1', 'tên dòng 2']\n",
    "### comlumns: danh sách các cột; columns = ['tên cột 1', 'tên cột 2']\n",
    "### dtype: kiểu dữ liệu của các cột\n",
    "### copy: copy dữ liệu hay không, mặc định là False"
   ]
  },
  {
   "cell_type": "code",
   "execution_count": 1,
   "metadata": {},
   "outputs": [],
   "source": [
    "import pandas as pd\n",
    "import numpy as np"
   ]
  },
  {
   "cell_type": "code",
   "execution_count": 2,
   "metadata": {},
   "outputs": [
    {
     "name": "stdout",
     "output_type": "stream",
     "text": [
      "Empty DataFrame\n",
      "Columns: []\n",
      "Index: []\n"
     ]
    }
   ],
   "source": [
    "df1 = pd.DataFrame()\n",
    "print(df1)"
   ]
  },
  {
   "cell_type": "code",
   "execution_count": 3,
   "metadata": {},
   "outputs": [
    {
     "name": "stdout",
     "output_type": "stream",
     "text": [
      "   0\n",
      "0  1\n",
      "1  2\n",
      "2  3\n",
      "3  4\n",
      "4  5\n"
     ]
    }
   ],
   "source": [
    "# Create a DataFrame from Lists\n",
    "lst = [1,2,3,4,5]\n",
    "df1 = pd.DataFrame(lst)\n",
    "print(df1)"
   ]
  },
  {
   "cell_type": "code",
   "execution_count": 4,
   "metadata": {},
   "outputs": [
    {
     "name": "stdout",
     "output_type": "stream",
     "text": [
      "   Name  Age\n",
      "0  Bibi    7\n",
      "1  Xuxu    5\n",
      "2  Kent   10\n"
     ]
    }
   ],
   "source": [
    "lst2 = [['Bibi',7],['Xuxu',5],['Kent',10]]\n",
    "df2 = pd.DataFrame(lst2,columns=['Name','Age'])\n",
    "print(df2)"
   ]
  },
  {
   "cell_type": "code",
   "execution_count": 5,
   "metadata": {},
   "outputs": [
    {
     "name": "stdout",
     "output_type": "stream",
     "text": [
      "     Name   Age\n",
      "0    Alex  23.0\n",
      "1     Bob  32.0\n",
      "2  Clarke  27.0\n"
     ]
    }
   ],
   "source": [
    "data = [['Alex',23],['Bob',32],['Clarke',27]]\n",
    "df = pd.DataFrame(data,columns=['Name','Age'],dtype=float)\n",
    "print(df)"
   ]
  },
  {
   "cell_type": "code",
   "execution_count": 6,
   "metadata": {},
   "outputs": [
    {
     "name": "stdout",
     "output_type": "stream",
     "text": [
      "       Name  Age\n",
      "sv1    Bibi    7\n",
      "sv2    Xuxu    5\n",
      "sv3    Kent   10\n",
      "sv4  Mickey    3\n"
     ]
    }
   ],
   "source": [
    "#Create a DataFrame from Dict of ndarrays / Lists\n",
    "dic1= {'Name':['Bibi', 'Xuxu', 'Kent', 'Mickey'],'Age':[7,5,10,3]}\n",
    "df3 = pd.DataFrame(dic1, index=['sv1','sv2','sv3','sv4'], columns=['Name','Age'])\n",
    "print(df3)"
   ]
  },
  {
   "cell_type": "code",
   "execution_count": 7,
   "metadata": {},
   "outputs": [
    {
     "name": "stdout",
     "output_type": "stream",
     "text": [
      "       Name  Age\n",
      "row1    Tom   28\n",
      "row2   Jack   34\n",
      "row3  Steve   29\n",
      "row4  Ricky   42\n"
     ]
    }
   ],
   "source": [
    "data = {'Name':['Tom', 'Jack', 'Steve', 'Ricky'],'Age':[28,34,29,42]}\n",
    "df = pd.DataFrame(data, index=['row1','row2','row3','row4'])\n",
    "print(df)"
   ]
  },
  {
   "cell_type": "code",
   "execution_count": 8,
   "metadata": {},
   "outputs": [
    {
     "name": "stdout",
     "output_type": "stream",
     "text": [
      "     Diem  Ten  Tuoi\n",
      "st1   8.5   An    12\n",
      "st2   7.5  Hoa    12\n",
      "st3   NaN   An    12\n"
     ]
    }
   ],
   "source": [
    "# Create a DataFrame from List of Dicts\n",
    "data = [{'Ten': 'An', 'Tuoi': 12, 'Diem': 8.5},{'Ten': 'Hoa', 'Tuoi': 12, 'Diem': 7.5},\n",
    "        {'Ten': 'An', 'Tuoi': 12} ]\n",
    "df = pd.DataFrame(data, index = ['st1', 'st2', 'st3'])\n",
    "print(df)"
   ]
  },
  {
   "cell_type": "code",
   "execution_count": 9,
   "metadata": {},
   "outputs": [
    {
     "name": "stdout",
     "output_type": "stream",
     "text": [
      "        a   b\n",
      "first   1   2\n",
      "second  5  10\n",
      "        a  b1\n",
      "first   1 NaN\n",
      "second  5 NaN\n"
     ]
    }
   ],
   "source": [
    "data = [{'a': 1, 'b': 2},{'a': 5, 'b': 10, 'c': 20}]\n",
    "# 2 cột, tên cột là tên key của dictionary\n",
    "df1 = pd.DataFrame(data, index=['first', 'second'], columns=['a', 'b'])\n",
    "\n",
    "# 2 cột, tên một cột là tên key của dictionary, tên một cột khác\n",
    "df2 = pd.DataFrame(data, index=['first', 'second'], columns=['a', 'b1'])\n",
    "print(df1)\n",
    "print(df2)"
   ]
  },
  {
   "cell_type": "code",
   "execution_count": 10,
   "metadata": {},
   "outputs": [
    {
     "name": "stdout",
     "output_type": "stream",
     "text": [
      "   one  two  three\n",
      "a  1.0    1    1.0\n",
      "b  2.0    2    2.0\n",
      "c  3.0    3    3.0\n",
      "d  NaN    4    NaN\n"
     ]
    }
   ],
   "source": [
    "# Create a DataFrame from Dict of Series\n",
    "d = {'one' : pd.Series([1, 2, 3], index=['a', 'b', 'c']),\n",
    "      'two' : pd.Series([1, 2, 3, 4], index=['a', 'b', 'c', 'd']),\n",
    "      'three' : pd.Series([1, 2, 3], index=['a', 'b', 'c']),\n",
    "    }\n",
    "\n",
    "df5 = pd.DataFrame(d, columns = ['one', 'two', 'three'])\n",
    "print(df5)"
   ]
  },
  {
   "cell_type": "markdown",
   "metadata": {},
   "source": [
    "### Thao tác trên cột: lấy dữ liệu, thêm cột, xóa cột"
   ]
  },
  {
   "cell_type": "code",
   "execution_count": 11,
   "metadata": {},
   "outputs": [
    {
     "name": "stdout",
     "output_type": "stream",
     "text": [
      "   one  two  three\n",
      "a  1.0    1    1.0\n",
      "b  2.0    2    2.0\n",
      "c  3.0    3    3.0\n",
      "d  NaN    4    NaN\n",
      "Lấy cột 'one':\n",
      "a    1.0\n",
      "b    2.0\n",
      "c    3.0\n",
      "d    NaN\n",
      "Name: one, dtype: float64\n"
     ]
    }
   ],
   "source": [
    "# lấy dữ liệu theo cột\n",
    "print(df5)\n",
    "print(\"Lấy cột 'one':\")\n",
    "print(df5['one'])"
   ]
  },
  {
   "cell_type": "code",
   "execution_count": 12,
   "metadata": {},
   "outputs": [
    {
     "name": "stdout",
     "output_type": "stream",
     "text": [
      "   one  two  three  four\n",
      "a  1.0    1    1.0    10\n",
      "b  2.0    2    2.0    20\n",
      "c  3.0    3    3.0    30\n",
      "d  NaN    4    NaN    40\n"
     ]
    }
   ],
   "source": [
    "# Thêm cột mới\n",
    "df5['four']=pd.Series([10,20,30, 40],\n",
    "                      index=['a','b','c','d'])\n",
    "print(df5)"
   ]
  },
  {
   "cell_type": "code",
   "execution_count": 13,
   "metadata": {},
   "outputs": [
    {
     "name": "stdout",
     "output_type": "stream",
     "text": [
      "Dùng del:\n",
      "   one  two  four\n",
      "a  1.0    1    10\n",
      "b  2.0    2    20\n",
      "c  3.0    3    30\n",
      "d  NaN    4    40\n"
     ]
    }
   ],
   "source": [
    "# using del function\n",
    "print (\"Dùng del:\")\n",
    "del df5['three']\n",
    "print(df5)"
   ]
  },
  {
   "cell_type": "code",
   "execution_count": 14,
   "metadata": {},
   "outputs": [
    {
     "name": "stdout",
     "output_type": "stream",
     "text": [
      "Dùng pop\n",
      "   two  four\n",
      "a    1    10\n",
      "b    2    20\n",
      "c    3    30\n",
      "d    4    40\n"
     ]
    }
   ],
   "source": [
    "# using pop function\n",
    "print (\"Dùng pop\")\n",
    "df5.pop('one')\n",
    "print(df5)"
   ]
  },
  {
   "cell_type": "markdown",
   "metadata": {},
   "source": [
    "# Thao tác trên dòng: lấy dữ liệu, thêm dòng, xóa dòng"
   ]
  },
  {
   "cell_type": "code",
   "execution_count": 15,
   "metadata": {},
   "outputs": [
    {
     "name": "stdout",
     "output_type": "stream",
     "text": [
      "   one  two\n",
      "a  1.0    1\n",
      "b  2.0    2\n",
      "c  3.0    3\n",
      "d  NaN    4\n"
     ]
    }
   ],
   "source": [
    "d = {'one' : pd.Series([1, 2, 3], index=['a', 'b', 'c']), \n",
    "     'two' : pd.Series([1, 2, 3, 4], index=['a', 'b', 'c', 'd'])}\n",
    "df = pd.DataFrame(d)\n",
    "print(df)"
   ]
  },
  {
   "cell_type": "code",
   "execution_count": 16,
   "metadata": {},
   "outputs": [
    {
     "name": "stdout",
     "output_type": "stream",
     "text": [
      "one    2.0\n",
      "two    2.0\n",
      "Name: b, dtype: float64\n"
     ]
    }
   ],
   "source": [
    "# lấy dữ liệu trên dòng 'b'\n",
    "print(df.loc['b'])"
   ]
  },
  {
   "cell_type": "code",
   "execution_count": 17,
   "metadata": {},
   "outputs": [
    {
     "name": "stdout",
     "output_type": "stream",
     "text": [
      "one    2.0\n",
      "two    2.0\n",
      "Name: b, dtype: float64\n"
     ]
    }
   ],
   "source": [
    "# dùng index\n",
    "df = pd.DataFrame(d)\n",
    "print(df.iloc[1])"
   ]
  },
  {
   "cell_type": "code",
   "execution_count": 18,
   "metadata": {},
   "outputs": [
    {
     "name": "stdout",
     "output_type": "stream",
     "text": [
      "   one  two\n",
      "c  3.0    3\n",
      "d  NaN    4\n"
     ]
    }
   ],
   "source": [
    "# chọn nhiều dòng\n",
    "print(df[2:4])"
   ]
  },
  {
   "cell_type": "code",
   "execution_count": 19,
   "metadata": {},
   "outputs": [
    {
     "name": "stdout",
     "output_type": "stream",
     "text": [
      "   one  two\n",
      "a  1.0    1\n",
      "b  2.0    2\n",
      "c  3.0    3\n",
      "d  NaN    4\n",
      "e  1.0    2\n",
      "f  5.0   10\n"
     ]
    }
   ],
   "source": [
    "# thêm dòng dùng append()\n",
    "df2 = pd.DataFrame([{'one': 1, 'two': 2},{'one': 5, 'two': 10}], index = ['e','f'])\n",
    "\n",
    "df = df.append(df2)\n",
    "print(df)"
   ]
  },
  {
   "cell_type": "code",
   "execution_count": 20,
   "metadata": {},
   "outputs": [
    {
     "name": "stdout",
     "output_type": "stream",
     "text": [
      "   one  two\n",
      "c  3.0    3\n",
      "d  NaN    4\n",
      "e  1.0    2\n",
      "f  5.0   10\n"
     ]
    }
   ],
   "source": [
    "# xóa dòng theo label\n",
    "df = df.drop(['a','b'])\n",
    "print(df)"
   ]
  },
  {
   "cell_type": "code",
   "execution_count": 21,
   "metadata": {},
   "outputs": [
    {
     "name": "stdout",
     "output_type": "stream",
     "text": [
      "   one  two\n",
      "e    1    2\n",
      "f    5   10\n"
     ]
    }
   ],
   "source": [
    "print(df2)"
   ]
  },
  {
   "cell_type": "code",
   "execution_count": 22,
   "metadata": {},
   "outputs": [
    {
     "name": "stdout",
     "output_type": "stream",
     "text": [
      "     Name   Age\n",
      "2    Alex  23.0\n",
      "0    Jack  27.0\n",
      "1  Clarke  32.0\n"
     ]
    }
   ],
   "source": [
    "data = [['Alex',23],['Jack',27],['Clarke',32]]\n",
    "df = pd.DataFrame(data,index=[2,0,1], columns=['Name','Age'],dtype=float)\n",
    "print(df)"
   ]
  },
  {
   "cell_type": "code",
   "execution_count": 23,
   "metadata": {},
   "outputs": [
    {
     "name": "stdout",
     "output_type": "stream",
     "text": [
      "     Name   Age\n",
      "0    Jack  27.0\n",
      "1  Clarke  32.0\n",
      "2    Alex  23.0\n"
     ]
    }
   ],
   "source": [
    "print(df.sort_index())"
   ]
  },
  {
   "cell_type": "code",
   "execution_count": 24,
   "metadata": {},
   "outputs": [
    {
     "name": "stdout",
     "output_type": "stream",
     "text": [
      "     Name   Age\n",
      "2    Alex  23.0\n",
      "1  Clarke  32.0\n",
      "0    Jack  27.0\n"
     ]
    }
   ],
   "source": [
    "print(df.sort_values(by='Name'))"
   ]
  },
  {
   "cell_type": "code",
   "execution_count": 25,
   "metadata": {},
   "outputs": [
    {
     "name": "stdout",
     "output_type": "stream",
     "text": [
      "   Name  Age\n",
      "2   1.0  1.0\n",
      "0   3.0  2.0\n",
      "1   2.0  3.0\n"
     ]
    }
   ],
   "source": [
    "print(df.rank())"
   ]
  },
  {
   "cell_type": "code",
   "execution_count": 26,
   "metadata": {},
   "outputs": [
    {
     "name": "stdout",
     "output_type": "stream",
     "text": [
      "<class 'pandas.core.frame.DataFrame'>\n",
      "Int64Index: 3 entries, 2 to 1\n",
      "Data columns (total 2 columns):\n",
      "Name    3 non-null object\n",
      "Age     3 non-null float64\n",
      "dtypes: float64(1), object(1)\n",
      "memory usage: 60.0+ bytes\n",
      "None\n"
     ]
    }
   ],
   "source": [
    "print(df.info())"
   ]
  },
  {
   "cell_type": "code",
   "execution_count": 27,
   "metadata": {},
   "outputs": [
    {
     "name": "stdout",
     "output_type": "stream",
     "text": [
      "Index(['Name', 'Age'], dtype='object')\n"
     ]
    }
   ],
   "source": [
    "print(df.columns)"
   ]
  },
  {
   "cell_type": "code",
   "execution_count": 28,
   "metadata": {},
   "outputs": [
    {
     "data": {
      "text/html": [
       "<div>\n",
       "<style scoped>\n",
       "    .dataframe tbody tr th:only-of-type {\n",
       "        vertical-align: middle;\n",
       "    }\n",
       "\n",
       "    .dataframe tbody tr th {\n",
       "        vertical-align: top;\n",
       "    }\n",
       "\n",
       "    .dataframe thead th {\n",
       "        text-align: right;\n",
       "    }\n",
       "</style>\n",
       "<table border=\"1\" class=\"dataframe\">\n",
       "  <thead>\n",
       "    <tr style=\"text-align: right;\">\n",
       "      <th></th>\n",
       "      <th>Name</th>\n",
       "      <th>Age</th>\n",
       "    </tr>\n",
       "  </thead>\n",
       "  <tbody>\n",
       "    <tr>\n",
       "      <th>2</th>\n",
       "      <td>Alex</td>\n",
       "      <td>23.0</td>\n",
       "    </tr>\n",
       "    <tr>\n",
       "      <th>0</th>\n",
       "      <td>Jack</td>\n",
       "      <td>27.0</td>\n",
       "    </tr>\n",
       "    <tr>\n",
       "      <th>1</th>\n",
       "      <td>Clarke</td>\n",
       "      <td>32.0</td>\n",
       "    </tr>\n",
       "  </tbody>\n",
       "</table>\n",
       "</div>"
      ],
      "text/plain": [
       "     Name   Age\n",
       "2    Alex  23.0\n",
       "0    Jack  27.0\n",
       "1  Clarke  32.0"
      ]
     },
     "execution_count": 28,
     "metadata": {},
     "output_type": "execute_result"
    }
   ],
   "source": [
    "df"
   ]
  },
  {
   "cell_type": "code",
   "execution_count": 29,
   "metadata": {},
   "outputs": [
    {
     "data": {
      "text/html": [
       "<div>\n",
       "<style scoped>\n",
       "    .dataframe tbody tr th:only-of-type {\n",
       "        vertical-align: middle;\n",
       "    }\n",
       "\n",
       "    .dataframe tbody tr th {\n",
       "        vertical-align: top;\n",
       "    }\n",
       "\n",
       "    .dataframe thead th {\n",
       "        text-align: right;\n",
       "    }\n",
       "</style>\n",
       "<table border=\"1\" class=\"dataframe\">\n",
       "  <thead>\n",
       "    <tr style=\"text-align: right;\">\n",
       "      <th></th>\n",
       "      <th>Name</th>\n",
       "      <th>Age</th>\n",
       "    </tr>\n",
       "  </thead>\n",
       "  <tbody>\n",
       "    <tr>\n",
       "      <th>2</th>\n",
       "      <td>Alex</td>\n",
       "      <td>23.0</td>\n",
       "    </tr>\n",
       "    <tr>\n",
       "      <th>0</th>\n",
       "      <td>Jack</td>\n",
       "      <td>27.0</td>\n",
       "    </tr>\n",
       "    <tr>\n",
       "      <th>1</th>\n",
       "      <td>Clarke</td>\n",
       "      <td>29.0</td>\n",
       "    </tr>\n",
       "  </tbody>\n",
       "</table>\n",
       "</div>"
      ],
      "text/plain": [
       "     Name   Age\n",
       "2    Alex  23.0\n",
       "0    Jack  27.0\n",
       "1  Clarke  29.0"
      ]
     },
     "execution_count": 29,
     "metadata": {},
     "output_type": "execute_result"
    }
   ],
   "source": [
    "# Cập nhật tuổi của dòng 1 thành 29\n",
    "df.loc[1, 'Age'] = 29\n",
    "df"
   ]
  },
  {
   "cell_type": "code",
   "execution_count": null,
   "metadata": {},
   "outputs": [],
   "source": []
  }
 ],
 "metadata": {
  "kernelspec": {
   "display_name": "Python 3",
   "language": "python",
   "name": "python3"
  },
  "language_info": {
   "codemirror_mode": {
    "name": "ipython",
    "version": 3
   },
   "file_extension": ".py",
   "mimetype": "text/x-python",
   "name": "python",
   "nbconvert_exporter": "python",
   "pygments_lexer": "ipython3",
   "version": "3.7.2"
  }
 },
 "nbformat": 4,
 "nbformat_minor": 2
}
