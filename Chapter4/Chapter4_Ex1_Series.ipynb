{
 "cells": [
  {
   "cell_type": "markdown",
   "metadata": {},
   "source": [
    "# Chapter 4 - exercise 1: Hãy thực hiện những yêu cầu liên quan tới series như sau:\n",
    "1. Tạo nd_array_1 có 5 phần tử số nguyên,nd_array_2 có 5 phần tử số nguyên. Chuyển 2 array này thành 2 series là series1 và series2. Tính cộng, trừ, nhân, chia 2 series này. In các kết quả\n",
    "2. So sánh xem các phần tử của series1 có >, <. = các phần tử của series2 không?\n",
    "3. Cho 2 series, tạo series3 chỉ chứa các phần tử có trong series1 mà không có trong series2. in series3\n",
    "4. Sử dụng lại 2 series là series1 và series2, tạo series6 chứa các phần tử chỉ có trong series1 và chỉ có trong series2\n",
    "5. Tạo 1 series có 35 phần tử ngẫu nhiên có giá trị trong khoảng 1 đến 9. In shape, head và tail của series này. In series theo dạng array. Thống kê thông tin chung của series. Cho biết tổng của series. Cho biết phần tử có tần suất xuất hiện nhiều nhất\n",
    "6. Sử dụng series của câu trên. In ra những dòng trong series mà giá trị chia hết cho 2 và cho 3\n",
    "7. Từ series của câu 5 phía trên, in ra các giá trị unique (array)\n",
    "8. Từ series của câu 5 phía trên, in các phần tử ở vị trí 0, 5, 10, 15\n",
    "9. Từ series của câu 5 phía trên hãy tạo một series mới với mỗi phần tử có giá trị = lập phương của phần tử trong series. In head của serires mới\n",
    "10. Cho list sau: lst = [\"abc\", \"defg\", \"htlmj\", \"dfg\", \"ljsac\"]. Tạo series từ lst này.Tạo series mới với mỗi phần tử có giá trị là chiều dài của phần tử trong series trên\n",
    "11. Cho ser = pd.Series(np.array([1, 2, 4, 5, 8, 7, 6, 9])). In ser. In ra những dòng trong series mà giá trị là số nguyên tố\n",
    "12. Cho mẫu email như sau pattern ='[A-Za-z0-9._%+-]+@[A-Za-z0-9.-]+\\\\.[A-Za-z]{2,4}'. Tạo một series mà mỗi phần tử là một chuỗi. In ra những dòng trong series thỏa điều kiện chuỗi là email"
   ]
  },
  {
   "cell_type": "code",
   "execution_count": 1,
   "metadata": {},
   "outputs": [],
   "source": [
    "%config IPCompleter.greedy = True\n",
    "import numpy as np\n",
    "import pandas as pd"
   ]
  },
  {
   "cell_type": "code",
   "execution_count": 2,
   "metadata": {},
   "outputs": [
    {
     "name": "stdout",
     "output_type": "stream",
     "text": [
      "0     2\n",
      "1     4\n",
      "2     6\n",
      "3     8\n",
      "4    10\n",
      "dtype: int32\n",
      "0     1\n",
      "1     3\n",
      "2     5\n",
      "3     7\n",
      "4    11\n",
      "dtype: int32\n"
     ]
    }
   ],
   "source": [
    "# Câu 1: \n",
    "# Tạo nd_array_1 có 5 phần tử số nguyên,nd_array_2 có 5 phần tử số nguyên\n",
    "# Chuyển 2 array này thành 2 series là series1 và series2\n",
    "# Tính cộng, trừ, nhân, chia 2 series này\n",
    "nd_array_1 = np.array([2, 4, 6, 8, 10])\n",
    "nd_array_2 = np.array([1, 3, 5, 7, 11])\n",
    "series1 = pd.Series(nd_array_1)\n",
    "print(series1)\n",
    "series2 = pd.Series(nd_array_2)\n",
    "print(series2)"
   ]
  },
  {
   "cell_type": "code",
   "execution_count": 3,
   "metadata": {},
   "outputs": [
    {
     "data": {
      "text/plain": [
       "0     3\n",
       "1     7\n",
       "2    11\n",
       "3    15\n",
       "4    21\n",
       "dtype: int32"
      ]
     },
     "execution_count": 3,
     "metadata": {},
     "output_type": "execute_result"
    }
   ],
   "source": [
    "series1 + series2"
   ]
  },
  {
   "cell_type": "code",
   "execution_count": 4,
   "metadata": {},
   "outputs": [
    {
     "data": {
      "text/plain": [
       "0    1\n",
       "1    1\n",
       "2    1\n",
       "3    1\n",
       "4   -1\n",
       "dtype: int32"
      ]
     },
     "execution_count": 4,
     "metadata": {},
     "output_type": "execute_result"
    }
   ],
   "source": [
    "series1 - series2"
   ]
  },
  {
   "cell_type": "code",
   "execution_count": 5,
   "metadata": {},
   "outputs": [
    {
     "data": {
      "text/plain": [
       "0      2\n",
       "1     12\n",
       "2     30\n",
       "3     56\n",
       "4    110\n",
       "dtype: int32"
      ]
     },
     "execution_count": 5,
     "metadata": {},
     "output_type": "execute_result"
    }
   ],
   "source": [
    "series1 * series2"
   ]
  },
  {
   "cell_type": "code",
   "execution_count": 6,
   "metadata": {},
   "outputs": [
    {
     "data": {
      "text/plain": [
       "0    2.000000\n",
       "1    1.333333\n",
       "2    1.200000\n",
       "3    1.142857\n",
       "4    0.909091\n",
       "dtype: float64"
      ]
     },
     "execution_count": 6,
     "metadata": {},
     "output_type": "execute_result"
    }
   ],
   "source": [
    "series1 / series2"
   ]
  },
  {
   "cell_type": "code",
   "execution_count": 7,
   "metadata": {},
   "outputs": [
    {
     "data": {
      "text/plain": [
       "0     True\n",
       "1     True\n",
       "2     True\n",
       "3     True\n",
       "4    False\n",
       "dtype: bool"
      ]
     },
     "execution_count": 7,
     "metadata": {},
     "output_type": "execute_result"
    }
   ],
   "source": [
    "# Câu 2: So sánh xem các phần tử của series1 có >, <. = các phần tử của series2 không?\n",
    "series1 > series2"
   ]
  },
  {
   "cell_type": "code",
   "execution_count": 8,
   "metadata": {},
   "outputs": [
    {
     "data": {
      "text/plain": [
       "0    False\n",
       "1    False\n",
       "2    False\n",
       "3    False\n",
       "4     True\n",
       "dtype: bool"
      ]
     },
     "execution_count": 8,
     "metadata": {},
     "output_type": "execute_result"
    }
   ],
   "source": [
    "series1 < series2"
   ]
  },
  {
   "cell_type": "code",
   "execution_count": 9,
   "metadata": {},
   "outputs": [
    {
     "data": {
      "text/plain": [
       "0    False\n",
       "1    False\n",
       "2    False\n",
       "3    False\n",
       "4    False\n",
       "dtype: bool"
      ]
     },
     "execution_count": 9,
     "metadata": {},
     "output_type": "execute_result"
    }
   ],
   "source": [
    "series1 == series2"
   ]
  },
  {
   "cell_type": "code",
   "execution_count": 10,
   "metadata": {},
   "outputs": [
    {
     "data": {
      "text/plain": [
       "0    1\n",
       "1    2\n",
       "2    3\n",
       "dtype: int64"
      ]
     },
     "execution_count": 10,
     "metadata": {},
     "output_type": "execute_result"
    }
   ],
   "source": [
    "# Câu 3: Cho 2 series, tạo series3 chỉ chứa các phần tử có trong series1 mà không có trong series2. in series3\n",
    "ser1 = pd.Series([1, 2, 3, 4, 5])\n",
    "ser2 = pd.Series([4, 5, 6, 7, 8])\n",
    "\n",
    "ser3 = ser1[~ser1.isin(ser2)]\n",
    "ser3"
   ]
  },
  {
   "cell_type": "code",
   "execution_count": 11,
   "metadata": {},
   "outputs": [
    {
     "name": "stdout",
     "output_type": "stream",
     "text": [
      "0    False\n",
      "1    False\n",
      "2    False\n",
      "3     True\n",
      "4     True\n",
      "dtype: bool\n"
     ]
    }
   ],
   "source": [
    "print(ser1.isin(ser2))"
   ]
  },
  {
   "cell_type": "code",
   "execution_count": 12,
   "metadata": {},
   "outputs": [
    {
     "data": {
      "text/plain": [
       "0    1\n",
       "1    2\n",
       "2    3\n",
       "2    6\n",
       "3    7\n",
       "4    8\n",
       "dtype: int64"
      ]
     },
     "execution_count": 12,
     "metadata": {},
     "output_type": "execute_result"
    }
   ],
   "source": [
    "# Câu 4: Sử dụng lại 2 series là series1 và series2, tạo series6 chứa các phần tử chỉ có trong ser1 và chỉ có trong ser2\n",
    "ser4 = ser1[~ser1.isin(ser2)]\n",
    "ser5 = ser2[~ser2.isin(ser1)]\n",
    "ser6 = ser4.append(ser5)\n",
    "ser6"
   ]
  },
  {
   "cell_type": "code",
   "execution_count": 13,
   "metadata": {},
   "outputs": [
    {
     "name": "stdout",
     "output_type": "stream",
     "text": [
      "0     6\n",
      "1     2\n",
      "2     8\n",
      "3     1\n",
      "4     7\n",
      "5     5\n",
      "6     1\n",
      "7     4\n",
      "8     5\n",
      "9     8\n",
      "10    8\n",
      "11    8\n",
      "12    1\n",
      "13    8\n",
      "14    5\n",
      "15    8\n",
      "16    9\n",
      "17    7\n",
      "18    2\n",
      "19    2\n",
      "20    2\n",
      "21    9\n",
      "22    8\n",
      "23    2\n",
      "24    8\n",
      "25    4\n",
      "26    8\n",
      "27    2\n",
      "28    4\n",
      "29    4\n",
      "30    8\n",
      "31    8\n",
      "32    4\n",
      "33    8\n",
      "34    2\n",
      "dtype: int32\n",
      "(35,)\n",
      "0    6\n",
      "1    2\n",
      "2    8\n",
      "3    1\n",
      "4    7\n",
      "dtype: int32\n",
      "30    8\n",
      "31    8\n",
      "32    4\n",
      "33    8\n",
      "34    2\n",
      "dtype: int32\n",
      "[6 2 8 1 7 5 1 4 5 8 8 8 1 8 5 8 9 7 2 2 2 9 8 2 8 4 8 2 4 4 8 8 4 8 2]\n"
     ]
    }
   ],
   "source": [
    "# Câu 5: Tạo 1 series có 35 phần tử ngẫu nhiên có giá trị trong khoảng 1 đến 9. In shape, head và tail của series này.\n",
    "# In series theo dạng array\n",
    "# Thống kê thông tin chung của series\n",
    "# Cho biết tổng của series\n",
    "# Cho biết phần tử có tần suất xuất hiện nhiều nhất\n",
    "ser = pd.Series(np.random.randint(1, 10, 35))\n",
    "print(ser)\n",
    "print(ser.shape)\n",
    "print(ser.head())\n",
    "print(ser.tail())\n",
    "print(ser.values)"
   ]
  },
  {
   "cell_type": "code",
   "execution_count": 14,
   "metadata": {},
   "outputs": [
    {
     "data": {
      "text/plain": [
       "count    35.000000\n",
       "mean      5.314286\n",
       "std       2.773524\n",
       "min       1.000000\n",
       "25%       2.000000\n",
       "50%       5.000000\n",
       "75%       8.000000\n",
       "max       9.000000\n",
       "dtype: float64"
      ]
     },
     "execution_count": 14,
     "metadata": {},
     "output_type": "execute_result"
    }
   ],
   "source": [
    "ser.describe()"
   ]
  },
  {
   "cell_type": "code",
   "execution_count": 15,
   "metadata": {},
   "outputs": [
    {
     "data": {
      "text/plain": [
       "186"
      ]
     },
     "execution_count": 15,
     "metadata": {},
     "output_type": "execute_result"
    }
   ],
   "source": [
    "ser.sum()"
   ]
  },
  {
   "cell_type": "code",
   "execution_count": 16,
   "metadata": {},
   "outputs": [
    {
     "data": {
      "text/plain": [
       "0    8\n",
       "dtype: int32"
      ]
     },
     "execution_count": 16,
     "metadata": {},
     "output_type": "execute_result"
    }
   ],
   "source": [
    "ser.mode()"
   ]
  },
  {
   "cell_type": "code",
   "execution_count": 17,
   "metadata": {},
   "outputs": [
    {
     "data": {
      "text/plain": [
       "0    6\n",
       "dtype: int32"
      ]
     },
     "execution_count": 17,
     "metadata": {},
     "output_type": "execute_result"
    }
   ],
   "source": [
    "# Câu 6:  Sử dụng series của câu trên. In ra những dòng trong series mà giá trị chia hết cho 2 và cho 3\n",
    "ser[(ser % 2 == 0) & (ser % 3 == 0)]"
   ]
  },
  {
   "cell_type": "code",
   "execution_count": 18,
   "metadata": {},
   "outputs": [
    {
     "data": {
      "text/plain": [
       "array([6, 2, 8, 1, 7, 5, 4, 9], dtype=int64)"
      ]
     },
     "execution_count": 18,
     "metadata": {},
     "output_type": "execute_result"
    }
   ],
   "source": [
    "# Câu 7: Từ series của câu 5 phía trên, in ra các giá trị unique (array)\n",
    "ser.unique()"
   ]
  },
  {
   "cell_type": "code",
   "execution_count": 19,
   "metadata": {},
   "outputs": [
    {
     "data": {
      "text/plain": [
       "0     6\n",
       "5     5\n",
       "10    8\n",
       "15    8\n",
       "dtype: int32"
      ]
     },
     "execution_count": 19,
     "metadata": {},
     "output_type": "execute_result"
    }
   ],
   "source": [
    "# Câu 8: Từ series của câu trên, in các phần tử ở vị trí 0, 5, 10, 15\n",
    "pos = [0, 5, 10, 15]\n",
    "ser[pos]"
   ]
  },
  {
   "cell_type": "code",
   "execution_count": 20,
   "metadata": {},
   "outputs": [
    {
     "name": "stdout",
     "output_type": "stream",
     "text": [
      "0    6\n",
      "1    2\n",
      "2    8\n",
      "3    1\n",
      "4    7\n",
      "dtype: int32\n",
      "0    216.0\n",
      "1      8.0\n",
      "2    512.0\n",
      "3      1.0\n",
      "4    343.0\n",
      "dtype: float64\n"
     ]
    }
   ],
   "source": [
    "# Câu 9: Từ series của câu 5 trên hãy tạo một series mới với mỗi phần tử có giá trị = lập phương của phần tử trong series. \n",
    "# In head của serires mới\n",
    "import math\n",
    "print(ser.head())\n",
    "ser2 = ser.map(lambda x: math.pow(x,3))\n",
    "print(ser2.head())"
   ]
  },
  {
   "cell_type": "code",
   "execution_count": 21,
   "metadata": {},
   "outputs": [
    {
     "data": {
      "text/plain": [
       "0      abc\n",
       "1     defg\n",
       "2    htlmj\n",
       "3      dfg\n",
       "4    ljsac\n",
       "dtype: object"
      ]
     },
     "execution_count": 21,
     "metadata": {},
     "output_type": "execute_result"
    }
   ],
   "source": [
    "# Câu 10: Cho list sau: lst = [\"abc\", \"defg\", \"htlmj\", \"dfg\", \"ljsac\"]. Tạo series từ lst này. \n",
    "# Tạo series mới với mỗi phần tử có giá trị là chiều dài của phần tử trong series trên\n",
    "lst = [\"abc\", \"defg\", \"htlmj\", \"dfg\", \"ljsac\"]\n",
    "ser3 = pd.Series(lst)\n",
    "ser3    "
   ]
  },
  {
   "cell_type": "code",
   "execution_count": 22,
   "metadata": {},
   "outputs": [
    {
     "data": {
      "text/plain": [
       "0    3\n",
       "1    4\n",
       "2    5\n",
       "3    3\n",
       "4    5\n",
       "dtype: int64"
      ]
     },
     "execution_count": 22,
     "metadata": {},
     "output_type": "execute_result"
    }
   ],
   "source": [
    "ser4 = ser3.map(lambda x: len(x))\n",
    "ser4"
   ]
  },
  {
   "cell_type": "code",
   "execution_count": 23,
   "metadata": {},
   "outputs": [],
   "source": [
    "# Câu 11: Cho ser = pd.Series(np.array([1, 2, 4, 5, 8, 7, 6, 9])). In ser. \n",
    "# In ra những dòng trong series mà giá trị là số nguyên tố\n",
    "def test_prime(number):\n",
    "    count = 0\n",
    "    for i in range(1, number + 1):\n",
    "        if number % i == 0:\n",
    "            count += 1\n",
    "    return count == 2"
   ]
  },
  {
   "cell_type": "code",
   "execution_count": 24,
   "metadata": {},
   "outputs": [
    {
     "name": "stdout",
     "output_type": "stream",
     "text": [
      "0    1\n",
      "1    2\n",
      "2    4\n",
      "3    5\n",
      "4    8\n",
      "5    7\n",
      "6    6\n",
      "7    9\n",
      "dtype: int32\n",
      "0    False\n",
      "1     True\n",
      "2    False\n",
      "3     True\n",
      "4    False\n",
      "5     True\n",
      "6    False\n",
      "7    False\n",
      "dtype: bool\n",
      "1    2\n",
      "3    5\n",
      "5    7\n",
      "dtype: int32\n"
     ]
    }
   ],
   "source": [
    "ser = pd.Series(np.array([1, 2, 4, 5, 8, 7, 6, 9]))\n",
    "print(ser)\n",
    "ser5 = ser.map(lambda x: test_prime(x))\n",
    "print(ser5)\n",
    "print(ser[ser5])"
   ]
  },
  {
   "cell_type": "code",
   "execution_count": 25,
   "metadata": {},
   "outputs": [
    {
     "data": {
      "text/plain": [
       "1          tubirona@gmail.com\n",
       "2         nguyen.nn@yahoo.com\n",
       "3    tran_2014@hotmail.com.vn\n",
       "dtype: object"
      ]
     },
     "execution_count": 25,
     "metadata": {},
     "output_type": "execute_result"
    }
   ],
   "source": [
    "# Câu 12: Cho mẫu email như sau pattern ='[A-Za-z0-9._%+-]+@[A-Za-z0-9.-]+\\\\.[A-Za-z]{2,4}'.\n",
    "# Tạo một series mà mỗi phần tử là một chuỗi\n",
    "# In ra những dòng trong series thỏa điều kiện chuỗi là email\n",
    "import re\n",
    "pattern ='[A-Za-z0-9._%+-]+@[A-Za-z0-9.-]+\\\\.[A-Za-z]{2,4}'\n",
    "emails = pd.Series(['reading newspaper from tuoitre.vn', 'tubirona@gmail.com', 'nguyen.nn@yahoo.com', 'tran_2014@hotmail.com.vn'])\n",
    "is_email = emails.map(lambda x: bool(re.match(pattern, x)))\n",
    "emails[is_email]"
   ]
  },
  {
   "cell_type": "code",
   "execution_count": 26,
   "metadata": {},
   "outputs": [
    {
     "data": {
      "text/plain": [
       "0           Manufacturer\n",
       "1                  Model\n",
       "2                CarType\n",
       "3              Min_Price\n",
       "4                  Price\n",
       "5              Max_Price\n",
       "6               MPG_city\n",
       "7            MPG_highway\n",
       "8                AirBags\n",
       "9             DriveTrain\n",
       "10             Cylinders\n",
       "11            EngineSize\n",
       "12            Horsepower\n",
       "13                   RPM\n",
       "14          Rev_per_mile\n",
       "15       Man_trans_avail\n",
       "16    Fuel_tank_capacity\n",
       "17            Passengers\n",
       "18                Length\n",
       "19             Wheelbase\n",
       "20                 Width\n",
       "21           Turn_circle\n",
       "22        Rear_seat_room\n",
       "23          Luggage_room\n",
       "24                Weight\n",
       "25                Origin\n",
       "26                  Make\n",
       "dtype: object"
      ]
     },
     "execution_count": 26,
     "metadata": {},
     "output_type": "execute_result"
    }
   ],
   "source": [
    "# Câu 13: \n",
    "'''Cho ser_names = pd.Series(['Manufacturer', 'Model', 'CarType', 'Min_Price', 'Price', 'Max_Price',\n",
    "       'MPG_city', 'MPG_highway', 'AirBags', 'DriveTrain', 'Cylinders',\n",
    "       'EngineSize', 'Horsepower', 'RPM', 'Rev_per_mile', 'Man_trans_avail',\n",
    "       'Fuel_tank_capacity', 'Passengers', 'Length', 'Wheelbase', 'Width',\n",
    "       'Turn_circle', 'Rear_seat_room', 'Luggage_room', 'Weight', 'Origin',\n",
    "       'Make'])\n",
    "In ra những dòng trong series trên thỏa điều kiện trong chuỗi có 'Price'\n",
    "'''\n",
    "ser_names = pd.Series(['Manufacturer', 'Model', 'CarType', 'Min_Price', 'Price', 'Max_Price',\n",
    "       'MPG_city', 'MPG_highway', 'AirBags', 'DriveTrain', 'Cylinders',\n",
    "       'EngineSize', 'Horsepower', 'RPM', 'Rev_per_mile', 'Man_trans_avail',\n",
    "       'Fuel_tank_capacity', 'Passengers', 'Length', 'Wheelbase', 'Width',\n",
    "       'Turn_circle', 'Rear_seat_room', 'Luggage_room', 'Weight', 'Origin',\n",
    "       'Make'])\n",
    "ser_names"
   ]
  },
  {
   "cell_type": "code",
   "execution_count": 27,
   "metadata": {},
   "outputs": [
    {
     "data": {
      "text/plain": [
       "0    False\n",
       "1    False\n",
       "2    False\n",
       "3     True\n",
       "4     True\n",
       "dtype: bool"
      ]
     },
     "execution_count": 27,
     "metadata": {},
     "output_type": "execute_result"
    }
   ],
   "source": [
    "has_Price = ser_names.map(lambda s: 'Price' in s)\n",
    "has_Price.head()"
   ]
  },
  {
   "cell_type": "code",
   "execution_count": 28,
   "metadata": {},
   "outputs": [
    {
     "data": {
      "text/plain": [
       "3    Min_Price\n",
       "4        Price\n",
       "5    Max_Price\n",
       "dtype: object"
      ]
     },
     "execution_count": 28,
     "metadata": {},
     "output_type": "execute_result"
    }
   ],
   "source": [
    "names_Price = ser_names[has_Price]\n",
    "names_Price"
   ]
  },
  {
   "cell_type": "code",
   "execution_count": null,
   "metadata": {},
   "outputs": [],
   "source": []
  }
 ],
 "metadata": {
  "kernelspec": {
   "display_name": "Python 3",
   "language": "python",
   "name": "python3"
  },
  "language_info": {
   "codemirror_mode": {
    "name": "ipython",
    "version": 3
   },
   "file_extension": ".py",
   "mimetype": "text/x-python",
   "name": "python",
   "nbconvert_exporter": "python",
   "pygments_lexer": "ipython3",
   "version": "3.7.2"
  }
 },
 "nbformat": 4,
 "nbformat_minor": 2
}
