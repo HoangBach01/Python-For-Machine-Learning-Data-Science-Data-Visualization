{
 "cells": [
  {
   "cell_type": "markdown",
   "metadata": {},
   "source": [
    "### A panel is a 3D container of data. \n",
    "\n",
    "#### items − axis 0, each item corresponds to a DataFrame contained inside.\n",
    "\n",
    "#### major_axis − axis 1, it is the index (rows) of each of the DataFrames.\n",
    "\n",
    "#### minor_axis − axis 2, it is the columns of each of the DataFrames."
   ]
  },
  {
   "cell_type": "markdown",
   "metadata": {},
   "source": [
    "## Syntax\n",
    "### pandas.Panel(data, items, major_axis, minor_axis, dtype, copy)\n",
    "#### data: ndarray, series, map, lists, dict, constants and also another DataFrame\n",
    "#### items: axis 0\n",
    "#### major_axis: axis 1\n",
    "#### minor_axis: axis 2\n",
    "#### dtype: kiểu dữ liệu của mỗi cột\n",
    "#### copy: copy dữ liệu nếu có"
   ]
  },
  {
   "cell_type": "code",
   "execution_count": 20,
   "metadata": {},
   "outputs": [],
   "source": [
    "%config IPCompleter.greedy = True"
   ]
  },
  {
   "cell_type": "code",
   "execution_count": 21,
   "metadata": {},
   "outputs": [
    {
     "name": "stdout",
     "output_type": "stream",
     "text": [
      "<class 'pandas.core.panel.Panel'>\n",
      "Dimensions: 0 (items) x 0 (major_axis) x 0 (minor_axis)\n",
      "Items axis: None\n",
      "Major_axis axis: None\n",
      "Minor_axis axis: None\n"
     ]
    }
   ],
   "source": [
    "import pandas as pd\n",
    "import numpy as np\n",
    "# khởi tạo\n",
    "p = pd.Panel()\n",
    "print(p)"
   ]
  },
  {
   "cell_type": "code",
   "execution_count": 22,
   "metadata": {},
   "outputs": [
    {
     "name": "stdout",
     "output_type": "stream",
     "text": [
      "<class 'numpy.ndarray'>\n",
      "<class 'pandas.core.panel.Panel'>\n",
      "Dimensions: 2 (items) x 4 (major_axis) x 5 (minor_axis)\n",
      "Items axis: 0 to 1\n",
      "Major_axis axis: 0 to 3\n",
      "Minor_axis axis: 0 to 4\n",
      "Data frame 1:\n",
      "          0         1         2         3         4\n",
      "0  0.342239  0.528028  0.922812  0.423024  0.949854\n",
      "1  0.650939  0.120214  0.560951  0.315543  0.939599\n",
      "2  0.793044  0.856280  0.068020  0.334557  0.583833\n",
      "3  0.991927  0.833557  0.016432  0.319916  0.476434\n"
     ]
    }
   ],
   "source": [
    "data = np.random.rand(2,4,5)\n",
    "print(type(data))\n",
    "p = pd.Panel(data)\n",
    "print(p)\n",
    "print(\"Data frame 1:\")\n",
    "print(p[0])"
   ]
  },
  {
   "cell_type": "code",
   "execution_count": 23,
   "metadata": {},
   "outputs": [
    {
     "name": "stdout",
     "output_type": "stream",
     "text": [
      "<class 'pandas.core.panel.Panel'>\n",
      "Dimensions: 2 (items) x 4 (major_axis) x 3 (minor_axis)\n",
      "Items axis: Item1 to Item2\n",
      "Major_axis axis: 0 to 3\n",
      "Minor_axis axis: 0 to 2\n"
     ]
    }
   ],
   "source": [
    "data = {'Item1' : pd.DataFrame(np.random.randn(4, 3)), \n",
    "        'Item2' : pd.DataFrame(np.random.randn(4, 2))}\n",
    "p = pd.Panel(data)\n",
    "print(p)"
   ]
  },
  {
   "cell_type": "code",
   "execution_count": 24,
   "metadata": {},
   "outputs": [
    {
     "name": "stdout",
     "output_type": "stream",
     "text": [
      "          0         1         2\n",
      "0  0.117567 -0.554309  1.347652\n",
      "1 -0.677827  0.642179  0.963765\n",
      "2  2.039035  0.125594  1.056462\n",
      "3  0.347222  0.816231  1.531888\n",
      "          0         1   2\n",
      "0  2.549528  1.214326 NaN\n",
      "1 -1.177458  0.599609 NaN\n",
      "2  0.469126  0.215855 NaN\n",
      "3 -0.157602  0.084735 NaN\n"
     ]
    }
   ],
   "source": [
    "# select item\n",
    "print(p['Item1'])\n",
    "print(p['Item2'])"
   ]
  },
  {
   "cell_type": "code",
   "execution_count": 25,
   "metadata": {},
   "outputs": [
    {
     "name": "stdout",
     "output_type": "stream",
     "text": [
      "      Item1     Item2\n",
      "0 -0.677827 -1.177458\n",
      "1  0.642179  0.599609\n",
      "2  0.963765       NaN\n"
     ]
    }
   ],
   "source": [
    "# select major axis 1\n",
    "print(p.major_xs(1))"
   ]
  },
  {
   "cell_type": "code",
   "execution_count": 26,
   "metadata": {},
   "outputs": [
    {
     "name": "stdout",
     "output_type": "stream",
     "text": [
      "      Item1     Item2\n",
      "0 -0.554309  1.214326\n",
      "1  0.642179  0.599609\n",
      "2  0.125594  0.215855\n",
      "3  0.816231  0.084735\n"
     ]
    }
   ],
   "source": [
    "# select miror axis\n",
    "print(p.minor_xs(1))"
   ]
  },
  {
   "cell_type": "code",
   "execution_count": 27,
   "metadata": {},
   "outputs": [
    {
     "name": "stdout",
     "output_type": "stream",
     "text": [
      "   one  two\n",
      "a  1.0    1\n",
      "b  2.0    2\n",
      "c  3.0    3\n",
      "d  NaN    4\n"
     ]
    }
   ],
   "source": [
    "d = {'one' : pd.Series([1, 2, 3], index=['a', 'b', 'c']), \n",
    "     'two' : pd.Series([1, 2, 3, 4], index=['a', 'b', 'c', 'd'])}\n",
    "df1 = pd.DataFrame(d)\n",
    "print(df1)"
   ]
  },
  {
   "cell_type": "code",
   "execution_count": 28,
   "metadata": {},
   "outputs": [
    {
     "name": "stdout",
     "output_type": "stream",
     "text": [
      "   four  three\n",
      "a     5      5\n",
      "b     6      6\n",
      "c     7      7\n",
      "d     9      8\n"
     ]
    }
   ],
   "source": [
    "d2 = {'three' : pd.Series([5, 6, 7, 8], index=['a', 'b', 'c','d']), \n",
    "     'four' : pd.Series([5, 6, 7, 9], index=['a', 'b', 'c','d'])}\n",
    "df2 = pd.DataFrame(d2)\n",
    "print(df2)"
   ]
  },
  {
   "cell_type": "code",
   "execution_count": 29,
   "metadata": {
    "scrolled": true
   },
   "outputs": [
    {
     "name": "stdout",
     "output_type": "stream",
     "text": [
      "<class 'pandas.core.panel.Panel'>\n",
      "Dimensions: 2 (items) x 4 (major_axis) x 4 (minor_axis)\n",
      "Items axis: Item1 to Item2\n",
      "Major_axis axis: a to d\n",
      "Minor_axis axis: four to two\n"
     ]
    }
   ],
   "source": [
    "data = {'Item1' : df1, \n",
    "        'Item2' : df2}\n",
    "p = pd.Panel(data)\n",
    "print(p)"
   ]
  },
  {
   "cell_type": "code",
   "execution_count": 30,
   "metadata": {},
   "outputs": [
    {
     "name": "stdout",
     "output_type": "stream",
     "text": [
      "   four  one  three  two\n",
      "a   NaN  1.0    NaN  1.0\n",
      "b   NaN  2.0    NaN  2.0\n",
      "c   NaN  3.0    NaN  3.0\n",
      "d   NaN  NaN    NaN  4.0\n"
     ]
    }
   ],
   "source": [
    "print(p['Item1'])"
   ]
  },
  {
   "cell_type": "code",
   "execution_count": 31,
   "metadata": {},
   "outputs": [
    {
     "name": "stdout",
     "output_type": "stream",
     "text": [
      "   four  one  three  two\n",
      "a   5.0  NaN    5.0  NaN\n",
      "b   6.0  NaN    6.0  NaN\n",
      "c   7.0  NaN    7.0  NaN\n",
      "d   9.0  NaN    8.0  NaN\n"
     ]
    }
   ],
   "source": [
    "print(p['Item2'])"
   ]
  },
  {
   "cell_type": "code",
   "execution_count": 39,
   "metadata": {},
   "outputs": [
    {
     "name": "stdout",
     "output_type": "stream",
     "text": [
      "       Item1  Item2\n",
      "four     NaN    5.0\n",
      "one      1.0    NaN\n",
      "three    NaN    5.0\n",
      "two      1.0    NaN\n"
     ]
    }
   ],
   "source": [
    "print(p.major_xs('a'))"
   ]
  },
  {
   "cell_type": "code",
   "execution_count": 40,
   "metadata": {},
   "outputs": [
    {
     "name": "stdout",
     "output_type": "stream",
     "text": [
      "   Item1  Item2\n",
      "a    NaN    5.0\n",
      "b    NaN    6.0\n",
      "c    NaN    7.0\n",
      "d    NaN    8.0\n"
     ]
    }
   ],
   "source": [
    "print(p.minor_xs('three'))"
   ]
  },
  {
   "cell_type": "code",
   "execution_count": 47,
   "metadata": {},
   "outputs": [
    {
     "name": "stdout",
     "output_type": "stream",
     "text": [
      "          0         1         2\n",
      "0 -1.400572 -0.093098  0.232955\n",
      "1 -1.171686  1.030805  1.140213\n",
      "2 -1.916337 -1.280010 -2.386235\n",
      "3 -1.205018 -0.745174 -1.294989\n"
     ]
    }
   ],
   "source": [
    "data = {'Item1' : pd.DataFrame(np.random.randn(4, 3)), \n",
    "        'Item2' : pd.DataFrame(np.random.randn(4, 2))}\n",
    "p = pd.Panel(data)\n",
    "print(p['Item1'])"
   ]
  },
  {
   "cell_type": "code",
   "execution_count": 48,
   "metadata": {},
   "outputs": [
    {
     "name": "stdout",
     "output_type": "stream",
     "text": [
      "              0         1         2\n",
      "count  4.000000  4.000000  4.000000\n",
      "mean  -1.423403 -0.271869 -0.577014\n",
      "std    0.343782  0.994868  1.569892\n",
      "min   -1.916337 -1.280010 -2.386235\n",
      "25%   -1.529513 -0.878883 -1.567800\n",
      "50%   -1.302795 -0.419136 -0.531017\n",
      "75%   -1.196685  0.187878  0.459769\n",
      "max   -1.171686  1.030805  1.140213\n"
     ]
    }
   ],
   "source": [
    "print(p['Item1'].describe(include = 'all'))"
   ]
  },
  {
   "cell_type": "code",
   "execution_count": null,
   "metadata": {},
   "outputs": [],
   "source": []
  }
 ],
 "metadata": {
  "kernelspec": {
   "display_name": "Python 3",
   "language": "python",
   "name": "python3"
  },
  "language_info": {
   "codemirror_mode": {
    "name": "ipython",
    "version": 3
   },
   "file_extension": ".py",
   "mimetype": "text/x-python",
   "name": "python",
   "nbconvert_exporter": "python",
   "pygments_lexer": "ipython3",
   "version": "3.6.5"
  }
 },
 "nbformat": 4,
 "nbformat_minor": 2
}
