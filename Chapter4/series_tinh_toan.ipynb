{
 "cells": [
  {
   "cell_type": "code",
   "execution_count": 2,
   "metadata": {},
   "outputs": [],
   "source": [
    "import numpy as np\n",
    "import pandas as pd"
   ]
  },
  {
   "cell_type": "code",
   "execution_count": 12,
   "metadata": {},
   "outputs": [
    {
     "name": "stdout",
     "output_type": "stream",
     "text": [
      "0    10\n",
      "1     8\n",
      "2    10\n",
      "3     8\n",
      "4     8\n",
      "5     4\n",
      "dtype: int32\n",
      "[ 4  8  8  8 10 10]\n",
      "mean: 8.0\n",
      "median: 8.0\n"
     ]
    }
   ],
   "source": [
    "a = np.array([10,8,10,8,8,4])\n",
    "s = pd.Series(a)\n",
    "print(s)\n",
    "print(np.sort(a))\n",
    "print('mean:',s.mean())\n",
    "print('median:',s.median())"
   ]
  },
  {
   "cell_type": "code",
   "execution_count": 23,
   "metadata": {},
   "outputs": [
    {
     "name": "stdout",
     "output_type": "stream",
     "text": [
      "0     10.0\n",
      "1      8.1\n",
      "2     10.0\n",
      "3      8.2\n",
      "4      8.0\n",
      "5      4.0\n",
      "6      3.0\n",
      "7      9.0\n",
      "8      8.0\n",
      "9      1.0\n",
      "10     7.0\n",
      "11     6.0\n",
      "dtype: float64\n",
      "[ 1.   3.   4.   6.   7.   8.   8.   8.1  8.2  9.  10.  10. ]\n",
      "mean: 6.858333333333333\n",
      "median: 8.0\n"
     ]
    }
   ],
   "source": [
    "a = np.array([10,8.1,10,8.2,8,4,3,9,8,1,7,6])\n",
    "s = pd.Series(a)\n",
    "print(s)\n",
    "print(np.sort(a))\n",
    "print('mean:',s.mean())\n",
    "print('median:',s.median())"
   ]
  },
  {
   "cell_type": "code",
   "execution_count": 22,
   "metadata": {},
   "outputs": [
    {
     "name": "stdout",
     "output_type": "stream",
     "text": [
      "count    10.000000\n",
      "mean      6.930000\n",
      "std       3.119847\n",
      "min       1.000000\n",
      "25%       5.000000\n",
      "50%       8.050000\n",
      "75%       8.800000\n",
      "max      10.000000\n",
      "dtype: float64\n"
     ]
    }
   ],
   "source": [
    "print(s.describe())"
   ]
  },
  {
   "cell_type": "code",
   "execution_count": 25,
   "metadata": {},
   "outputs": [
    {
     "name": "stdout",
     "output_type": "stream",
     "text": [
      "count     9.000000\n",
      "mean     12.888889\n",
      "std      16.661666\n",
      "min       1.000000\n",
      "25%       3.000000\n",
      "50%       5.000000\n",
      "75%      15.000000\n",
      "max      50.000000\n",
      "dtype: float64\n"
     ]
    }
   ],
   "source": [
    "a = np.array([1,2,3,4,5,6,15,30,50])\n",
    "s = pd.Series(a)\n",
    "print(s.describe())"
   ]
  },
  {
   "cell_type": "code",
   "execution_count": null,
   "metadata": {},
   "outputs": [],
   "source": []
  }
 ],
 "metadata": {
  "kernelspec": {
   "display_name": "Python 3",
   "language": "python",
   "name": "python3"
  },
  "language_info": {
   "codemirror_mode": {
    "name": "ipython",
    "version": 3
   },
   "file_extension": ".py",
   "mimetype": "text/x-python",
   "name": "python",
   "nbconvert_exporter": "python",
   "pygments_lexer": "ipython3",
   "version": "3.7.2"
  }
 },
 "nbformat": 4,
 "nbformat_minor": 2
}
