{
 "cells": [
  {
   "cell_type": "code",
   "execution_count": 5,
   "metadata": {},
   "outputs": [
    {
     "name": "stdout",
     "output_type": "stream",
     "text": [
      "0    25.0\n",
      "1    26.0\n",
      "2     NaN\n",
      "dtype: float64\n",
      "Số phần tử khác null: 2\n"
     ]
    }
   ],
   "source": [
    "import numpy as np\n",
    "import pandas as pd\n",
    "\n",
    "s1 = pd.Series([25,26, np.NaN])\n",
    "print(s1)\n",
    "print('Số phần tử khác null:',s1.count())"
   ]
  },
  {
   "cell_type": "code",
   "execution_count": 19,
   "metadata": {},
   "outputs": [
    {
     "name": "stdout",
     "output_type": "stream",
     "text": [
      "Sum: 30.569999999999997\n",
      "Mean: 2.3515384615384614\n",
      "Median: 3.2\n",
      "Mode: 0    2.98\n",
      "dtype: float64\n",
      "Std: 2.900390336241676\n"
     ]
    }
   ],
   "source": [
    "s2 = pd.Series([-3.24,2.98,3.98,2.56,3.20,\n",
    "                4.6,3.8,3.78,2.98,-4.80,4.10,3.65, 2.98])\n",
    "print(\"Sum:\", s2.sum())\n",
    "print(\"Mean:\", s2.mean())\n",
    "print(\"Median:\", s2.median())\n",
    "print(\"Mode:\", s2.mode())\n",
    "print(\"Std:\", s2.std())"
   ]
  },
  {
   "cell_type": "code",
   "execution_count": 23,
   "metadata": {},
   "outputs": [
    {
     "name": "stdout",
     "output_type": "stream",
     "text": [
      "[-3.24  2.98  3.98  2.56  3.2   4.6   3.8   3.78  2.98 -4.8   4.1   3.65\n",
      "  2.98]\n",
      "Min: -4.8\n",
      "Max: 4.6\n",
      "Abs: [3.24 2.98 3.98 2.56 3.2  4.6  3.8  3.78 2.98 4.8  4.1  3.65 2.98]\n",
      "Prod: 13268383.171812728\n",
      "Cumsum: [-3.24 -0.26  3.72  6.28  9.48 14.08 17.88 21.66 24.64 19.84 23.94 27.59\n",
      " 30.57]\n",
      "Cumprod: [-3.24000000e+00 -9.65520000e+00 -3.84276960e+01 -9.83749018e+01\n",
      " -3.14799686e+02 -1.44807855e+03 -5.50269850e+03 -2.08002003e+04\n",
      " -6.19845970e+04  2.97526066e+05  1.21985687e+06  4.45247757e+06\n",
      "  1.32683832e+07]\n"
     ]
    }
   ],
   "source": [
    "print(s2.values)\n",
    "print(\"Min:\", s2.min())\n",
    "print(\"Max:\", s2.max())\n",
    "print(\"Abs:\", s2.abs().values)\n",
    "print(\"Prod:\", s2.prod())\n",
    "print(\"Cumsum:\", s2.cumsum().values)\n",
    "print(\"Cumprod:\", s2.cumprod().values)"
   ]
  },
  {
   "cell_type": "code",
   "execution_count": 25,
   "metadata": {},
   "outputs": [
    {
     "name": "stdout",
     "output_type": "stream",
     "text": [
      "[-3.24  2.98  3.98  2.56  3.2   4.6   3.8   3.78  2.98 -4.8   4.1   3.65\n",
      "  2.98]\n",
      "count    13.000000\n",
      "mean      2.351538\n",
      "std       2.900390\n",
      "min      -4.800000\n",
      "25%       2.980000\n",
      "50%       3.200000\n",
      "75%       3.800000\n",
      "max       4.600000\n",
      "dtype: float64\n"
     ]
    }
   ],
   "source": [
    "print(s2.values)\n",
    "print(s2.describe())"
   ]
  },
  {
   "cell_type": "code",
   "execution_count": null,
   "metadata": {},
   "outputs": [],
   "source": []
  }
 ],
 "metadata": {
  "kernelspec": {
   "display_name": "Python 3",
   "language": "python",
   "name": "python3"
  },
  "language_info": {
   "codemirror_mode": {
    "name": "ipython",
    "version": 3
   },
   "file_extension": ".py",
   "mimetype": "text/x-python",
   "name": "python",
   "nbconvert_exporter": "python",
   "pygments_lexer": "ipython3",
   "version": "3.7.2"
  }
 },
 "nbformat": 4,
 "nbformat_minor": 2
}
