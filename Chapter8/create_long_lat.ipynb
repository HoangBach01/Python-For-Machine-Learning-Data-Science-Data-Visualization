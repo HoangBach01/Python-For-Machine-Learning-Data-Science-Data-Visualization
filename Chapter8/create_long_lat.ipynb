{
 "cells": [
  {
   "cell_type": "code",
   "execution_count": 1,
   "metadata": {},
   "outputs": [],
   "source": [
    "import pandas as pd\n",
    "import numpy as np"
   ]
  },
  {
   "cell_type": "code",
   "execution_count": 8,
   "metadata": {},
   "outputs": [
    {
     "output_type": "execute_result",
     "data": {
      "text/plain": "     NAME  Ma_Huyen             Tinh      LAT      LNG\n0  Quận 1     70101  TP. Hồ Chí Minh  10.7838  106.698\n1  Quận 1     70101  TP. Hồ Chí Minh  10.7807  106.695\n2  Quận 1     70101  TP. Hồ Chí Minh  10.7781  106.692\n3  Quận 1     70101  TP. Hồ Chí Minh  10.7748  106.689\n4  Quận 1     70101  TP. Hồ Chí Minh  10.7721  106.687",
      "text/html": "<div>\n<style scoped>\n    .dataframe tbody tr th:only-of-type {\n        vertical-align: middle;\n    }\n\n    .dataframe tbody tr th {\n        vertical-align: top;\n    }\n\n    .dataframe thead th {\n        text-align: right;\n    }\n</style>\n<table border=\"1\" class=\"dataframe\">\n  <thead>\n    <tr style=\"text-align: right;\">\n      <th></th>\n      <th>NAME</th>\n      <th>Ma_Huyen</th>\n      <th>Tinh</th>\n      <th>LAT</th>\n      <th>LNG</th>\n    </tr>\n  </thead>\n  <tbody>\n    <tr>\n      <th>0</th>\n      <td>Quận 1</td>\n      <td>70101</td>\n      <td>TP. Hồ Chí Minh</td>\n      <td>10.7838</td>\n      <td>106.698</td>\n    </tr>\n    <tr>\n      <th>1</th>\n      <td>Quận 1</td>\n      <td>70101</td>\n      <td>TP. Hồ Chí Minh</td>\n      <td>10.7807</td>\n      <td>106.695</td>\n    </tr>\n    <tr>\n      <th>2</th>\n      <td>Quận 1</td>\n      <td>70101</td>\n      <td>TP. Hồ Chí Minh</td>\n      <td>10.7781</td>\n      <td>106.692</td>\n    </tr>\n    <tr>\n      <th>3</th>\n      <td>Quận 1</td>\n      <td>70101</td>\n      <td>TP. Hồ Chí Minh</td>\n      <td>10.7748</td>\n      <td>106.689</td>\n    </tr>\n    <tr>\n      <th>4</th>\n      <td>Quận 1</td>\n      <td>70101</td>\n      <td>TP. Hồ Chí Minh</td>\n      <td>10.7721</td>\n      <td>106.687</td>\n    </tr>\n  </tbody>\n</table>\n</div>"
     },
     "metadata": {},
     "execution_count": 8
    }
   ],
   "source": [
    "df = pd.read_excel(\"data/Data.xlsx\", sheet_name='boundary')\n",
    "df.head()"
   ]
  },
  {
   "cell_type": "code",
   "execution_count": 11,
   "metadata": {},
   "outputs": [],
   "source": [
    "df['geometry'] = list(zip(df['LAT'],df['LNG']))"
   ]
  },
  {
   "cell_type": "code",
   "execution_count": 13,
   "metadata": {},
   "outputs": [
    {
     "output_type": "execute_result",
     "data": {
      "text/plain": "     NAME  Ma_Huyen             Tinh      LAT      LNG         Coordinates  \\\n0  Quận 1     70101  TP. Hồ Chí Minh  10.7838  106.698  (10.7838, 106.698)   \n1  Quận 1     70101  TP. Hồ Chí Minh  10.7807  106.695  (10.7807, 106.695)   \n2  Quận 1     70101  TP. Hồ Chí Minh  10.7781  106.692  (10.7781, 106.692)   \n3  Quận 1     70101  TP. Hồ Chí Minh  10.7748  106.689  (10.7748, 106.689)   \n4  Quận 1     70101  TP. Hồ Chí Minh  10.7721  106.687  (10.7721, 106.687)   \n\n             geometry  \n0  (10.7838, 106.698)  \n1  (10.7807, 106.695)  \n2  (10.7781, 106.692)  \n3  (10.7748, 106.689)  \n4  (10.7721, 106.687)  ",
      "text/html": "<div>\n<style scoped>\n    .dataframe tbody tr th:only-of-type {\n        vertical-align: middle;\n    }\n\n    .dataframe tbody tr th {\n        vertical-align: top;\n    }\n\n    .dataframe thead th {\n        text-align: right;\n    }\n</style>\n<table border=\"1\" class=\"dataframe\">\n  <thead>\n    <tr style=\"text-align: right;\">\n      <th></th>\n      <th>NAME</th>\n      <th>Ma_Huyen</th>\n      <th>Tinh</th>\n      <th>LAT</th>\n      <th>LNG</th>\n      <th>Coordinates</th>\n      <th>geometry</th>\n    </tr>\n  </thead>\n  <tbody>\n    <tr>\n      <th>0</th>\n      <td>Quận 1</td>\n      <td>70101</td>\n      <td>TP. Hồ Chí Minh</td>\n      <td>10.7838</td>\n      <td>106.698</td>\n      <td>(10.7838, 106.698)</td>\n      <td>(10.7838, 106.698)</td>\n    </tr>\n    <tr>\n      <th>1</th>\n      <td>Quận 1</td>\n      <td>70101</td>\n      <td>TP. Hồ Chí Minh</td>\n      <td>10.7807</td>\n      <td>106.695</td>\n      <td>(10.7807, 106.695)</td>\n      <td>(10.7807, 106.695)</td>\n    </tr>\n    <tr>\n      <th>2</th>\n      <td>Quận 1</td>\n      <td>70101</td>\n      <td>TP. Hồ Chí Minh</td>\n      <td>10.7781</td>\n      <td>106.692</td>\n      <td>(10.7781, 106.692)</td>\n      <td>(10.7781, 106.692)</td>\n    </tr>\n    <tr>\n      <th>3</th>\n      <td>Quận 1</td>\n      <td>70101</td>\n      <td>TP. Hồ Chí Minh</td>\n      <td>10.7748</td>\n      <td>106.689</td>\n      <td>(10.7748, 106.689)</td>\n      <td>(10.7748, 106.689)</td>\n    </tr>\n    <tr>\n      <th>4</th>\n      <td>Quận 1</td>\n      <td>70101</td>\n      <td>TP. Hồ Chí Minh</td>\n      <td>10.7721</td>\n      <td>106.687</td>\n      <td>(10.7721, 106.687)</td>\n      <td>(10.7721, 106.687)</td>\n    </tr>\n  </tbody>\n</table>\n</div>"
     },
     "metadata": {},
     "execution_count": 13
    }
   ],
   "source": [
    "df.head()"
   ]
  },
  {
   "cell_type": "code",
   "execution_count": 14,
   "metadata": {
    "tags": []
   },
   "outputs": [
    {
     "output_type": "stream",
     "name": "stdout",
     "text": "<class 'pandas.core.frame.DataFrame'>\nRangeIndex: 5165 entries, 0 to 5164\nData columns (total 7 columns):\n #   Column       Non-Null Count  Dtype  \n---  ------       --------------  -----  \n 0   NAME         5165 non-null   object \n 1   Ma_Huyen     5165 non-null   int64  \n 2   Tinh         5165 non-null   object \n 3   LAT          5165 non-null   float64\n 4   LNG          5165 non-null   float64\n 5   Coordinates  5165 non-null   object \n 6   geometry     5165 non-null   object \ndtypes: float64(2), int64(1), object(4)\nmemory usage: 282.6+ KB\n"
    }
   ],
   "source": [
    "df.info()"
   ]
  },
  {
   "cell_type": "code",
   "execution_count": 15,
   "metadata": {},
   "outputs": [],
   "source": [
    "lst = df['geometry'].groupby(df.NAME)"
   ]
  },
  {
   "cell_type": "code",
   "execution_count": 16,
   "metadata": {},
   "outputs": [
    {
     "output_type": "execute_result",
     "data": {
      "text/plain": "<pandas.core.groupby.generic.SeriesGroupBy object at 0x7f839d234990>"
     },
     "metadata": {},
     "execution_count": 16
    }
   ],
   "source": [
    "lst"
   ]
  },
  {
   "cell_type": "code",
   "execution_count": 17,
   "metadata": {},
   "outputs": [
    {
     "output_type": "error",
     "ename": "AbstractMethodError",
     "evalue": "This method must be defined in the concrete class SeriesGroupBy",
     "traceback": [
      "\u001b[0;31m---------------------------------------------------------------------------\u001b[0m",
      "\u001b[0;31mAbstractMethodError\u001b[0m                       Traceback (most recent call last)",
      "\u001b[0;32m<ipython-input-17-3ac598d0275b>\u001b[0m in \u001b[0;36m<module>\u001b[0;34m\u001b[0m\n\u001b[0;32m----> 1\u001b[0;31m \u001b[0mlst\u001b[0m\u001b[0;34m[\u001b[0m\u001b[0;36m0\u001b[0m\u001b[0;34m]\u001b[0m\u001b[0;34m\u001b[0m\u001b[0;34m\u001b[0m\u001b[0m\n\u001b[0m",
      "\u001b[0;32m/opt/anaconda3/lib/python3.7/site-packages/pandas/core/base.py\u001b[0m in \u001b[0;36m__getitem__\u001b[0;34m(self, key)\u001b[0m\n\u001b[1;32m    238\u001b[0m             \u001b[0;32mif\u001b[0m \u001b[0mkey\u001b[0m \u001b[0;32mnot\u001b[0m \u001b[0;32min\u001b[0m \u001b[0mself\u001b[0m\u001b[0;34m.\u001b[0m\u001b[0mobj\u001b[0m\u001b[0;34m:\u001b[0m\u001b[0;34m\u001b[0m\u001b[0;34m\u001b[0m\u001b[0m\n\u001b[1;32m    239\u001b[0m                 \u001b[0;32mraise\u001b[0m \u001b[0mKeyError\u001b[0m\u001b[0;34m(\u001b[0m\u001b[0;34mf\"Column not found: {key}\"\u001b[0m\u001b[0;34m)\u001b[0m\u001b[0;34m\u001b[0m\u001b[0;34m\u001b[0m\u001b[0m\n\u001b[0;32m--> 240\u001b[0;31m             \u001b[0;32mreturn\u001b[0m \u001b[0mself\u001b[0m\u001b[0;34m.\u001b[0m\u001b[0m_gotitem\u001b[0m\u001b[0;34m(\u001b[0m\u001b[0mkey\u001b[0m\u001b[0;34m,\u001b[0m \u001b[0mndim\u001b[0m\u001b[0;34m=\u001b[0m\u001b[0;36m1\u001b[0m\u001b[0;34m)\u001b[0m\u001b[0;34m\u001b[0m\u001b[0;34m\u001b[0m\u001b[0m\n\u001b[0m\u001b[1;32m    241\u001b[0m \u001b[0;34m\u001b[0m\u001b[0m\n\u001b[1;32m    242\u001b[0m     \u001b[0;32mdef\u001b[0m \u001b[0m_gotitem\u001b[0m\u001b[0;34m(\u001b[0m\u001b[0mself\u001b[0m\u001b[0;34m,\u001b[0m \u001b[0mkey\u001b[0m\u001b[0;34m,\u001b[0m \u001b[0mndim\u001b[0m\u001b[0;34m,\u001b[0m \u001b[0msubset\u001b[0m\u001b[0;34m=\u001b[0m\u001b[0;32mNone\u001b[0m\u001b[0;34m)\u001b[0m\u001b[0;34m:\u001b[0m\u001b[0;34m\u001b[0m\u001b[0;34m\u001b[0m\u001b[0m\n",
      "\u001b[0;32m/opt/anaconda3/lib/python3.7/site-packages/pandas/core/base.py\u001b[0m in \u001b[0;36m_gotitem\u001b[0;34m(self, key, ndim, subset)\u001b[0m\n\u001b[1;32m    254\u001b[0m \u001b[0;34m\u001b[0m\u001b[0m\n\u001b[1;32m    255\u001b[0m         \"\"\"\n\u001b[0;32m--> 256\u001b[0;31m         \u001b[0;32mraise\u001b[0m \u001b[0mAbstractMethodError\u001b[0m\u001b[0;34m(\u001b[0m\u001b[0mself\u001b[0m\u001b[0;34m)\u001b[0m\u001b[0;34m\u001b[0m\u001b[0;34m\u001b[0m\u001b[0m\n\u001b[0m\u001b[1;32m    257\u001b[0m \u001b[0;34m\u001b[0m\u001b[0m\n\u001b[1;32m    258\u001b[0m     \u001b[0;32mdef\u001b[0m \u001b[0maggregate\u001b[0m\u001b[0;34m(\u001b[0m\u001b[0mself\u001b[0m\u001b[0;34m,\u001b[0m \u001b[0mfunc\u001b[0m\u001b[0;34m,\u001b[0m \u001b[0;34m*\u001b[0m\u001b[0margs\u001b[0m\u001b[0;34m,\u001b[0m \u001b[0;34m**\u001b[0m\u001b[0mkwargs\u001b[0m\u001b[0;34m)\u001b[0m\u001b[0;34m:\u001b[0m\u001b[0;34m\u001b[0m\u001b[0;34m\u001b[0m\u001b[0m\n",
      "\u001b[0;31mAbstractMethodError\u001b[0m: This method must be defined in the concrete class SeriesGroupBy"
     ]
    }
   ],
   "source": [
    "lst[0]"
   ]
  },
  {
   "cell_type": "code",
   "execution_count": null,
   "metadata": {},
   "outputs": [],
   "source": []
  }
 ],
 "metadata": {
  "kernelspec": {
   "display_name": "Python 3",
   "language": "python",
   "name": "python3"
  },
  "language_info": {
   "codemirror_mode": {
    "name": "ipython",
    "version": 3
   },
   "file_extension": ".py",
   "mimetype": "text/x-python",
   "name": "python",
   "nbconvert_exporter": "python",
   "pygments_lexer": "ipython3",
   "version": "3.8.2-final"
  }
 },
 "nbformat": 4,
 "nbformat_minor": 2
}