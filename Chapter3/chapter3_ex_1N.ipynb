{
 "cells": [
  {
   "cell_type": "markdown",
   "metadata": {},
   "source": [
    "# Chapter 3 - exercise 1: Hãy thực hiện các yêu cầu sau:\n",
    "1. Tạo numpy array có giá trị từ 0 - 9, in array, type, shape\n",
    "2. Từ numpy array ở câu 1 => tạo arr_odd và arr_even => in 2 array mới này\n",
    "3. Từ numpy array ở câu 1 => tạo arr_update_1 với các phần tử chẵn giữ nguyên, các phần tử lẻ thay bằng 100 => in kết quả\n",
    "4. Từ 2 array => tạo arr mới chỉ chứa các phần tử xuất hiện ở cả 2 array, lấy duy nhất, dùng np.intersect1d(a,b)\n",
    "5. Từ 2 array a và b ở câu trên => Tạo array mới chỉ chứa các phần tử chỉ xuất hiện ở array a, dùng np.setdiff1d(a,b)\n",
    "6. Cho array e, tạo array f chỉ chứa các phần tử có giá trị từ 5 đến 10 của e\n",
    "7. Tạo array có 10 phần tử 0, cập nhật phần tử ở vị trí thứ 5 là 1\n",
    "8. Tạo array có giá trị từ 10 đến 24\n",
    "9. Cho array k => tạo array l từ k với các phần tử đếu khác 0\n",
    "10. Từ array của câu trên, thêm 2 phần tử có giá trị là 10, 20 vào cuối array\n",
    "11. Từ array của câu trên, thêm phần tử có giá trị 100 vào index = 5\n",
    "12. Từ array của câu trên, xóa phần tử index = 0, 1, 2"
   ]
  },
  {
   "cell_type": "code",
   "execution_count": 1,
   "metadata": {},
   "outputs": [
    {
     "name": "stdout",
     "output_type": "stream",
     "text": [
      "[0 1 2 3 4 5 6 7 8 9]\n",
      "<class 'numpy.ndarray'>\n",
      "(10,)\n"
     ]
    }
   ],
   "source": [
    "import numpy as np\n",
    "# Câu 1: Tạo numpy array có giá trị từ 0 - 9, in array, type, shape\n",
    "arr = np.arange(10)\n",
    "print(arr)\n",
    "print(type(arr))\n",
    "print(arr.shape)"
   ]
  },
  {
   "cell_type": "code",
   "execution_count": 2,
   "metadata": {},
   "outputs": [
    {
     "name": "stdout",
     "output_type": "stream",
     "text": [
      "Odd array:\n",
      "[1 3 5 7 9]\n",
      "Event array:\n",
      "[0 2 4 6 8]\n"
     ]
    }
   ],
   "source": [
    "# Câu 2: Từ numpy array ở câu 1 => tạo arr_odd và arr_even => in 2 array mới này\n",
    "arr_odd = arr[arr % 2 != 0]\n",
    "print(\"Odd array:\")\n",
    "print(arr_odd)\n",
    "print(\"Event array:\")\n",
    "arr_even = arr[arr % 2 == 0]\n",
    "print(arr_even)"
   ]
  },
  {
   "cell_type": "code",
   "execution_count": 3,
   "metadata": {},
   "outputs": [
    {
     "name": "stdout",
     "output_type": "stream",
     "text": [
      "[  0 100   2 100   4 100   6 100   8 100]\n"
     ]
    }
   ],
   "source": [
    "# Câu 3: Từ numpy array ở câu 1 => tạo arr_update_1 với các phần tử chẵn giữ nguyên, các phần tử lẻ thay bằng 100\n",
    "# in kết quả\n",
    "array_update_1 = arr\n",
    "array_update_1[array_update_1 % 2 != 0 ] = 100\n",
    "print(array_update_1)"
   ]
  },
  {
   "cell_type": "code",
   "execution_count": 4,
   "metadata": {},
   "outputs": [
    {
     "name": "stdout",
     "output_type": "stream",
     "text": [
      "[2 4]\n"
     ]
    }
   ],
   "source": [
    "# Câu 4: Tạo arr mới chỉ chứa các phần tử xuất hiện ở cả 2 array, lấy duy nhất\n",
    "a = np.array([1,2,3,2,3,4,3,4,5,6])\n",
    "b = np.array([7,2,10,2,7,4,9,4,9,8])\n",
    "c = np.intersect1d(a,b)\n",
    "print(c)"
   ]
  },
  {
   "cell_type": "code",
   "execution_count": 5,
   "metadata": {},
   "outputs": [
    {
     "name": "stdout",
     "output_type": "stream",
     "text": [
      "[1 3 5 6]\n"
     ]
    }
   ],
   "source": [
    "# Câu 5: Từ 2 array a và b ở câu trên => Tạo array mới chỉ chứa các phần tử chỉ xuất hiện ở array a\n",
    "d = np.setdiff1d(a,b)\n",
    "print(d)"
   ]
  },
  {
   "cell_type": "code",
   "execution_count": 6,
   "metadata": {},
   "outputs": [
    {
     "name": "stdout",
     "output_type": "stream",
     "text": [
      "[ 6  9 10  8  6]\n"
     ]
    }
   ],
   "source": [
    "# Câu 6: Cho array e, tạo array f chỉ chứa các phần tử có giá trị từ 5 đến 10 của e\n",
    "e = np.array([2, 6, 1, 9, 10, 3, 27, 8, 6, 25, 16])\n",
    "f = e[(e >= 5) & (e <= 10)]\n",
    "print(f)"
   ]
  },
  {
   "cell_type": "code",
   "execution_count": 7,
   "metadata": {},
   "outputs": [
    {
     "name": "stdout",
     "output_type": "stream",
     "text": [
      "[0. 0. 0. 0. 0. 0. 0. 0. 0. 0.]\n",
      "[0. 0. 0. 0. 1. 0. 0. 0. 0. 0.]\n"
     ]
    }
   ],
   "source": [
    "# Câu 7: Tạo array có 10 phần tử 0, cập nhật phần tử ở vị trí thứ 5 là 1\n",
    "g = np.zeros(10)\n",
    "print(g)\n",
    "g[4] = 1\n",
    "print(g)"
   ]
  },
  {
   "cell_type": "code",
   "execution_count": 8,
   "metadata": {},
   "outputs": [
    {
     "name": "stdout",
     "output_type": "stream",
     "text": [
      "[12 13 14 15 16 17 18 19 20 21 22 23 24]\n",
      "[24 23 22 21 20 19 18 17 16 15 14 13 12]\n"
     ]
    }
   ],
   "source": [
    "# Câu 8: Tạo array có giá trị từ 12 đến 24\n",
    "h = np.arange(12, 25)\n",
    "print(h)\n",
    "# Đảo ngược array này\n",
    "h = h[::-1]\n",
    "print(h)"
   ]
  },
  {
   "cell_type": "code",
   "execution_count": 9,
   "metadata": {},
   "outputs": [
    {
     "name": "stdout",
     "output_type": "stream",
     "text": [
      "[1 2 0 8 2 0 1 3 0 5 0]\n",
      "[1 2 8 2 1 3 5]\n"
     ]
    }
   ],
   "source": [
    "# Câu 9: Cho array k => tạo array l từ k với các phần tử đếu khác 0\n",
    "k = np.array([1, 2, 0, 8, 2, 0, 1, 3, 0, 5, 0])\n",
    "print(k)\n",
    "l = k[k.nonzero()]\n",
    "print(l)"
   ]
  },
  {
   "cell_type": "code",
   "execution_count": 10,
   "metadata": {},
   "outputs": [
    {
     "name": "stdout",
     "output_type": "stream",
     "text": [
      "[ 1  2  8  2  1  3  5 10 20]\n"
     ]
    }
   ],
   "source": [
    "# Câu 10: Từ array của câu trên, thêm 2 phần từ có giá trị là 10, 20 vào cuối array\n",
    "l = np.append(l, [10, 20])\n",
    "print(l)\n"
   ]
  },
  {
   "cell_type": "code",
   "execution_count": 11,
   "metadata": {},
   "outputs": [
    {
     "name": "stdout",
     "output_type": "stream",
     "text": [
      "[  1   2   8   2   1 100   3   5  10  20]\n"
     ]
    }
   ],
   "source": [
    "# Câu 11: Từ array của câu trên, thêm phần tử có giá trị 100 vào index = 5\n",
    "l = np.insert(l, 5, 100)\n",
    "print(l)"
   ]
  },
  {
   "cell_type": "code",
   "execution_count": 12,
   "metadata": {},
   "outputs": [
    {
     "name": "stdout",
     "output_type": "stream",
     "text": [
      "[  2   1 100   3   5  10  20]\n"
     ]
    }
   ],
   "source": [
    "# Câu 12: Từ array của câu trên, xóa phần tử index = 0, 1, 2\n",
    "l = np.delete(l, [0, 1, 2])\n",
    "print(l)"
   ]
  },
  {
   "cell_type": "code",
   "execution_count": null,
   "metadata": {},
   "outputs": [],
   "source": []
  }
 ],
 "metadata": {
  "kernelspec": {
   "display_name": "Python 3",
   "language": "python",
   "name": "python3"
  },
  "language_info": {
   "codemirror_mode": {
    "name": "ipython",
    "version": 3
   },
   "file_extension": ".py",
   "mimetype": "text/x-python",
   "name": "python",
   "nbconvert_exporter": "python",
   "pygments_lexer": "ipython3",
   "version": "3.6.5"
  }
 },
 "nbformat": 4,
 "nbformat_minor": 2
}
