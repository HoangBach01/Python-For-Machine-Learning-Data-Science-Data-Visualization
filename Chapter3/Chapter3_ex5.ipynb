{
 "cells": [
  {
   "cell_type": "markdown",
   "metadata": {},
   "source": [
    "# Chapter 3 - Exercise 5: IRIS FLOWERS\n",
    "### Cho dữ liệu IRIS flowers từ ['https://archive.ics.uci.edu/ml/machine-learning-databases/iris/iris.data']('https://archive.ics.uci.edu/ml/machine-learning-databases/iris/iris.data')\n",
    "1. Import dữ liệu từ URL trên, tạo array iris và giữ nguyên dữ liệu text => In shape, In 3 dòng đầu của dữ liệu\n",
    "2. Import dữ liệu từ URL trên, tạo array iris_2d trong đó chỉ lấy 4 cột đầu, kiểu float\n",
    "3. Với dữ liệu của câu trên, tạo array sepallength với giá trị lấy từ cột đầu tiên của iris_2d. Tính mean, median, standard deviation, min, max of iris's sepallength\n",
    "4. Tìm điểm số % của sepallength thứ 5th và 95th \n",
    "5. Lọc các dòng theo điều kiện: Lọc các dòng của iris_2d có petallength (3rd column) > 1.5 và sepallength (1st column) < 5.0\n",
    "6. Tìm correlation giữa SepalLength(1st column) và PetalLength(3rd column) của iris_2d\n",
    "7. Tìm vị trí của các dòng missing value trong array\n",
    "* Sử dụng URL của IRIS, tạo array iris_2d_temp\n",
    "* Chỉnh lại một số dòng ngẫu nhiên có giá trị null ở các cột ngẫu nhiên: thêm vào trị nul (nan) tại 20 vị trí ngẫu nhiên trong array\n",
    "* Đếm các giá trị nan\n",
    "* Hiển thị vị trí các dòng này\n",
    "* Hiển thị các dòng này\n",
    "* Xóa các dòng dữ liệu nan trong array\n",
    "* Kiểm tra lại xem array có còn giá trị nan hay không?"
   ]
  },
  {
   "cell_type": "code",
   "execution_count": 1,
   "metadata": {},
   "outputs": [
    {
     "name": "stdout",
     "output_type": "stream",
     "text": [
      "(150, 5)\n",
      "[[b'5.1' b'3.5' b'1.4' b'0.2' b'Iris-setosa']\n",
      " [b'4.9' b'3.0' b'1.4' b'0.2' b'Iris-setosa']\n",
      " [b'4.7' b'3.2' b'1.3' b'0.2' b'Iris-setosa']]\n"
     ]
    }
   ],
   "source": [
    "import numpy as np\n",
    "# Câu 1: Import dữ liệu, tạo array và giữ nguyên dữ liệu text\n",
    "# Từ 'https://archive.ics.uci.edu/ml/machine-learning-databases/iris/iris.data'\n",
    "# Với các cột: 'sepallength', 'sepalwidth', 'petallength', 'petalwidth', 'species'\n",
    "url = 'https://archive.ics.uci.edu/ml/machine-learning-databases/iris/iris.data'\n",
    "iris = np.genfromtxt(url, delimiter=',', dtype='object')\n",
    "names = ('sepallength', 'sepalwidth', 'petallength', 'petalwidth', 'species')\n",
    "print(iris.shape)\n",
    "# in 3 dòng đầu\n",
    "print(iris[:3])"
   ]
  },
  {
   "cell_type": "code",
   "execution_count": 2,
   "metadata": {},
   "outputs": [
    {
     "name": "stdout",
     "output_type": "stream",
     "text": [
      "(150, 4)\n",
      "[[5.1 3.5 1.4 0.2]\n",
      " [4.9 3.  1.4 0.2]\n",
      " [4.7 3.2 1.3 0.2]]\n"
     ]
    }
   ],
   "source": [
    "# Câu 2: Import dữ liệu từ URL, tạo array trong đó chỉ lấy 4 cột đầu, kiểu float\n",
    "iris_2d = np.genfromtxt(url, delimiter=',', dtype='float', usecols=[0,1,2,3])\n",
    "print(iris_2d.shape)\n",
    "print(iris_2d[:3])"
   ]
  },
  {
   "cell_type": "code",
   "execution_count": 3,
   "metadata": {},
   "outputs": [
    {
     "name": "stdout",
     "output_type": "stream",
     "text": [
      "[5.1 4.9 4.7]\n",
      "5.843333333333334 5.8 0.8253012917851409 4.3 7.9\n"
     ]
    }
   ],
   "source": [
    "# Câu 3: Với dữ liệu của câu trên, tạo 1 array mới với giá trị lấy từ cột đầu tiên \n",
    "# Tính mean, median, standard deviation, min, max of iris's sepallength\n",
    "sepallength = iris_2d[:,0]\n",
    "print(sepallength[:3])\n",
    "mu, med, sd, smin, smax = np.mean(sepallength), np.median(sepallength), np.std(sepallength), np.min(sepallength), np.max(sepallength)\n",
    "print(mu, med, sd, smin, smax)"
   ]
  },
  {
   "cell_type": "code",
   "execution_count": 4,
   "metadata": {},
   "outputs": [
    {
     "name": "stdout",
     "output_type": "stream",
     "text": [
      "[5.1 4.9 4.7 4.6 5. ]\n"
     ]
    }
   ],
   "source": [
    "# Câu 3': Tạo array từ cột đầu của dữ liệu từ URL, chuẩn hóa dữ liệu cột này trong khoảng có giá trị từ 0 đến 1\n",
    "sepallength_1 = np.genfromtxt(url, delimiter=',', dtype='float', usecols=[0])\n",
    "print(sepallength_1[:5])"
   ]
  },
  {
   "cell_type": "code",
   "execution_count": 5,
   "metadata": {},
   "outputs": [
    {
     "name": "stdout",
     "output_type": "stream",
     "text": [
      "[4.6   7.255]\n"
     ]
    }
   ],
   "source": [
    "# Câu 4:  percentile scores of a numpy array\n",
    "# Tìm điểm số % của sepallength thứ 5th và 95th \n",
    "print(np.percentile(sepallength, q=[5, 95]))"
   ]
  },
  {
   "cell_type": "code",
   "execution_count": 6,
   "metadata": {},
   "outputs": [
    {
     "name": "stdout",
     "output_type": "stream",
     "text": [
      "[[4.8 3.4 1.6 0.2]\n",
      " [4.8 3.4 1.9 0.2]\n",
      " [4.7 3.2 1.6 0.2]\n",
      " [4.8 3.1 1.6 0.2]\n",
      " [4.9 2.4 3.3 1. ]\n",
      " [4.9 2.5 4.5 1.7]]\n"
     ]
    }
   ],
   "source": [
    "# Câu 5: Lọc các dòng theo điều kiện\n",
    "# Lọc các dòng của iris_2d có petallength (3rd column) > 1.5 và sepallength (1st column) < 5.0\n",
    "condition = (iris_2d[:, 2] > 1.5) & (iris_2d[:, 0] < 5.0)\n",
    "print(iris_2d[condition])"
   ]
  },
  {
   "cell_type": "code",
   "execution_count": 7,
   "metadata": {},
   "outputs": [
    {
     "name": "stdout",
     "output_type": "stream",
     "text": [
      "[[1.         0.87175416]\n",
      " [0.87175416 1.        ]]\n",
      "0.871754157304871\n"
     ]
    },
    {
     "data": {
      "text/plain": [
       "'\\n# Correlation coef indicates the degree of linear relationship between two numeric variables.\\n# It can range between -1 to +1.\\n\\n# The p-value roughly indicates the probability of an uncorrelated system producing \\n# datasets that have a correlation at least as extreme as the one computed.\\n# The lower the p-value (<0.01), stronger is the significance of the relationship.\\n# It is not an indicator of the strength.\\n#> 0.871754157305\\n'"
      ]
     },
     "execution_count": 7,
     "metadata": {},
     "output_type": "execute_result"
    }
   ],
   "source": [
    "# Câu 6: Tìm corellation\n",
    "# Tìm correlation giữa SepalLength(1st column) và PetalLength(3rd column) của iris_2d\n",
    "c = np.corrcoef(iris_2d[:, 0], iris_2d[:, 2])\n",
    "print(c)\n",
    "print(c[0,1])\n",
    "'''\n",
    "# Correlation coef indicates the degree of linear relationship between two numeric variables.\n",
    "# It can range between -1 to +1.\n",
    "\n",
    "# The p-value roughly indicates the probability of an uncorrelated system producing \n",
    "# datasets that have a correlation at least as extreme as the one computed.\n",
    "# The lower the p-value (<0.01), stronger is the significance of the relationship.\n",
    "# It is not an indicator of the strength.\n",
    "#> 0.871754157305\n",
    "'''"
   ]
  },
  {
   "cell_type": "code",
   "execution_count": 8,
   "metadata": {},
   "outputs": [
    {
     "name": "stdout",
     "output_type": "stream",
     "text": [
      "Number of missing values:  5\n",
      "Position of missing values: (array([  2,  14,  46,  77, 145], dtype=int32),)\n",
      "[[[nan 3.2 1.3 0.2]\n",
      "  [nan 4.  1.2 0.2]\n",
      "  [nan 3.8 1.6 0.2]\n",
      "  [nan 3.  5.  1.7]\n",
      "  [nan 3.  5.2 2.3]]]\n"
     ]
    }
   ],
   "source": [
    "# Câu 7: Tìm vị trí của các dòng missing value trong array\n",
    "# Sử dụng URL của IRIS, tạo array\n",
    "#chỉnh lại một số dòng ngẫu nhiên có giá trị nan ở các cột ngẫu nhiên: thêm vá trị nan tại 20 vị trí ngẫu nhiên trong array\n",
    "# Đếm các giá trị nan\n",
    "# Hiển thị vị trí các dòng này\n",
    "# Hiển thị các dòng này\n",
    "iris_2d_temp = np.genfromtxt(url, delimiter=',', dtype='float', usecols=[0,1,2,3])\n",
    "iris_2d_temp[np.random.randint(150, size=20), np.random.randint(4, size=20)] = np.nan\n",
    "nums_nan = np.isnan(iris_2d_temp[:, 0]).sum()\n",
    "print(\"Number of missing values: \", nums_nan)\n",
    "pos = np.where(np.isnan(iris_2d_temp[:, 0]))\n",
    "print(\"Position of missing values:\",pos)\n",
    "print(iris_2d_temp[pos,:])"
   ]
  },
  {
   "cell_type": "code",
   "execution_count": 10,
   "metadata": {},
   "outputs": [
    {
     "name": "stdout",
     "output_type": "stream",
     "text": [
      "Number of missing values (before):  5\n",
      "Number of missing values (after):  0\n"
     ]
    }
   ],
   "source": [
    "# Câu 8: Kiểm tra xem các bộ dữ liệu có null hay không\n",
    "# Xóa dòng dữ liệu nan\n",
    "print(\"Number of missing values (before): \", nums_nan)\n",
    "pos = np.where(np.isnan(iris_2d_temp[:, 0]))\n",
    "iris_2d_temp = iris_2d_temp[~np.isnan(iris_2d_temp).any(axis=1)]\n",
    "nums_nan = np.isnan(iris_2d_temp[:, 0]).sum()\n",
    "print(\"Number of missing values (after): \", nums_nan)"
   ]
  },
  {
   "cell_type": "code",
   "execution_count": null,
   "metadata": {},
   "outputs": [],
   "source": []
  }
 ],
 "metadata": {
  "kernelspec": {
   "display_name": "Python 3",
   "language": "python",
   "name": "python3"
  },
  "language_info": {
   "codemirror_mode": {
    "name": "ipython",
    "version": 3
   },
   "file_extension": ".py",
   "mimetype": "text/x-python",
   "name": "python",
   "nbconvert_exporter": "python",
   "pygments_lexer": "ipython3",
   "version": "3.6.6"
  }
 },
 "nbformat": 4,
 "nbformat_minor": 2
}
