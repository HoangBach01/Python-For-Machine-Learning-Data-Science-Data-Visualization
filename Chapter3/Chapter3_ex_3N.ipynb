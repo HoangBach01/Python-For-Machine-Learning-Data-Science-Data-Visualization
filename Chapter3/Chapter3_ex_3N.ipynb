{
 "cells": [
  {
   "cell_type": "markdown",
   "metadata": {},
   "source": [
    "## Chapter 3 - Exercise 3\n",
    "1. Tạo array 3x3 với tất cả các giá trị đều là True. In array\n",
    "2. Cho array 1D có 9 phần tử 0-8 => chuyển thành array 2D (3x3) => In array. Chuyển cột 1 sang cột 3 và ngược lại. => In array\n",
    "3. Sử dụng array 2D của câu trên, chuyển dòng 1 sang dòng 2 và ngược lại => In array\n",
    "4. Sử dụng array 2D của câu trên, Đảo ngược các dòng của array 2D => In array\n",
    "5. Sử dụng array 2D của câu trên, Đảo ngược các cột của array 2D = > In array\n",
    "6. Cho h = np.array([[1, 2, 3], [np.NaN, 5, 6], [7, np.NaN, 9], [4, 5, 6]]), kiểm tra xem trong array có giá trị rỗng nào không?\n",
    "7. Sử dụng array 2D của câu trên, thay thế giá trị null bằng 0"
   ]
  },
  {
   "cell_type": "code",
   "execution_count": 1,
   "metadata": {},
   "outputs": [],
   "source": [
    "import numpy as np"
   ]
  },
  {
   "cell_type": "code",
   "execution_count": 2,
   "metadata": {
    "tags": []
   },
   "outputs": [
    {
     "output_type": "stream",
     "name": "stdout",
     "text": "[ 0  1  2 ... 12 13 14]\n"
    }
   ],
   "source": [
    "# In 1 phần của array\n",
    "np.set_printoptions(threshold=6)\n",
    "a1 = np.arange(15)\n",
    "print(a1)"
   ]
  },
  {
   "cell_type": "code",
   "execution_count": 3,
   "metadata": {
    "scrolled": true,
    "tags": []
   },
   "outputs": [
    {
     "output_type": "stream",
     "name": "stdout",
     "text": "[ 0  1  2 ... 12 13 14]\n"
    }
   ],
   "source": [
    "# In toàn bộ array\n",
    "np.set_printoptions(threshold=0)\n",
    "print(a1)"
   ]
  },
  {
   "cell_type": "code",
   "execution_count": 4,
   "metadata": {
    "tags": []
   },
   "outputs": [
    {
     "output_type": "stream",
     "name": "stdout",
     "text": "[[ True  True  True]\n [ True  True  True]\n [ True  True  True]]\n"
    }
   ],
   "source": [
    "# Câu 1: Tạo array 3x3 với tất cả các giá trị đều là True. In array\n",
    "a = np.ones((3,3), dtype=bool)\n",
    "print(a)"
   ]
  },
  {
   "cell_type": "code",
   "execution_count": 5,
   "metadata": {
    "tags": []
   },
   "outputs": [
    {
     "output_type": "stream",
     "name": "stdout",
     "text": "[0 1 2 ... 6 7 8]\n"
    }
   ],
   "source": [
    "# Câu 2: Cho array 1D có 9 phần tử 0-8 => chuyển thành array 2D 3x3 => In kết quả. Chuyển cột 1 sang cột 3 và ngược lại.\n",
    "b = np.array(range(9))\n",
    "print(b)"
   ]
  },
  {
   "cell_type": "code",
   "execution_count": 6,
   "metadata": {
    "tags": []
   },
   "outputs": [
    {
     "output_type": "stream",
     "name": "stdout",
     "text": "[[0 1 2]\n [3 4 5]\n [6 7 8]]\n"
    }
   ],
   "source": [
    "c = b.reshape(3,3)\n",
    "print(c)"
   ]
  },
  {
   "cell_type": "code",
   "execution_count": 7,
   "metadata": {
    "tags": []
   },
   "outputs": [
    {
     "output_type": "stream",
     "name": "stdout",
     "text": "[[2 1 0]\n [5 4 3]\n [8 7 6]]\n"
    }
   ],
   "source": [
    "d = c[:, [2,1,0]]\n",
    "print(d)"
   ]
  },
  {
   "cell_type": "code",
   "execution_count": 8,
   "metadata": {
    "tags": []
   },
   "outputs": [
    {
     "output_type": "stream",
     "name": "stdout",
     "text": "[[5 4 3]\n [2 1 0]\n [8 7 6]]\n"
    }
   ],
   "source": [
    "# Câu 3: Sử dụng array 2D của câu trên, chuyển dòng 1 sang dòng 2 và ngược lại => In array\n",
    "e = d[[1,0,2],:]\n",
    "print(e)"
   ]
  },
  {
   "cell_type": "code",
   "execution_count": 9,
   "metadata": {
    "tags": []
   },
   "outputs": [
    {
     "output_type": "stream",
     "name": "stdout",
     "text": "[[1 2 3]\n [4 5 6]\n [7 8 9]]\nReverse:\n[[7 8 9]\n [4 5 6]\n [1 2 3]]\n"
    }
   ],
   "source": [
    "# Câu 4: Đảo ngược các dòng của array 2D\n",
    "f = np.array([[1, 2, 3], [4, 5, 6], [7, 8, 9]])\n",
    "print(f)\n",
    "print(\"Reverse:\")\n",
    "print(f[::-1])"
   ]
  },
  {
   "cell_type": "code",
   "execution_count": 10,
   "metadata": {
    "tags": []
   },
   "outputs": [
    {
     "output_type": "stream",
     "name": "stdout",
     "text": "[24 12 35 78 36]\ntang: [12 24 35 36 78]\ngiam: [78 36 35 24 12]\n"
    }
   ],
   "source": [
    "arr_1 = np.array([24,12,35,78,36])\n",
    "print(arr_1)\n",
    "# sap giam\n",
    "arr_1 = np.sort(arr_1)\n",
    "print('tang:',arr_1)\n",
    "print('giam:',arr_1[::-1])"
   ]
  },
  {
   "cell_type": "code",
   "execution_count": 11,
   "metadata": {
    "tags": []
   },
   "outputs": [
    {
     "output_type": "stream",
     "name": "stdout",
     "text": "[[1 2 3]\n [4 5 6]\n [7 8 9]]\nReverse:\n[[3 2 1]\n [6 5 4]\n [9 8 7]]\n"
    }
   ],
   "source": [
    "# Câu 5: Đảo ngược các cột của array 2D\n",
    "g = np.array([[1, 2, 3], [4, 5, 6], [7, 8, 9]])\n",
    "print(g)\n",
    "print(\"Reverse:\")\n",
    "print(g[:,::-1])"
   ]
  },
  {
   "cell_type": "code",
   "execution_count": 12,
   "metadata": {
    "tags": []
   },
   "outputs": [
    {
     "output_type": "stream",
     "name": "stdout",
     "text": "[[ 1.  2.  3.]\n [nan  5.  6.]\n [ 7. nan  9.]\n [ 4.  5.  6.]]\nHave nan? :  True\n"
    }
   ],
   "source": [
    "import numpy as np\n",
    "# Câu 6: Kiểm tra xem trong array có giá trị null nào không\n",
    "h = np.array([[1, 2, 3], [np.NaN, 5, 6], [7, np.NaN, 9], [4, 5, 6]])\n",
    "print(h)\n",
    "print(\"Have nan? : \", np.isnan(h).any())"
   ]
  },
  {
   "cell_type": "code",
   "execution_count": 13,
   "metadata": {
    "tags": []
   },
   "outputs": [
    {
     "output_type": "stream",
     "name": "stdout",
     "text": "Before:\n[[ 1.  2.  3.]\n [nan  5.  6.]\n [ 7. nan  9.]\n [ 4.  5.  6.]]\nAfter:\n[[1. 2. 3.]\n [0. 5. 6.]\n [7. 0. 9.]\n [4. 5. 6.]]\n"
    }
   ],
   "source": [
    "# Câu 7: Thay thế giá trị null bằng 0\n",
    "print(\"Before:\")\n",
    "print(h)\n",
    "h[np.isnan(h)] = 0\n",
    "print(\"After:\")\n",
    "print(h)"
   ]
  },
  {
   "cell_type": "code",
   "execution_count": null,
   "metadata": {},
   "outputs": [],
   "source": []
  }
 ],
 "metadata": {
  "kernelspec": {
   "display_name": "Python 3.7.7 64-bit ('ai_learn': conda)",
   "language": "python",
   "name": "python37764bitailearncondac55bf7adc40a450a9629c3e2b471f312"
  },
  "language_info": {
   "codemirror_mode": {
    "name": "ipython",
    "version": 3
   },
   "file_extension": ".py",
   "mimetype": "text/x-python",
   "name": "python",
   "nbconvert_exporter": "python",
   "pygments_lexer": "ipython3",
   "version": "3.7.7-final"
  }
 },
 "nbformat": 4,
 "nbformat_minor": 2
}