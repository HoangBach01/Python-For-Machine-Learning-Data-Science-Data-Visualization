{
 "cells": [
  {
   "cell_type": "code",
   "execution_count": 3,
   "metadata": {},
   "outputs": [
    {
     "name": "stdout",
     "output_type": "stream",
     "text": [
      "[ 6  8 10 12]\n",
      "[-4 -4 -4 -4]\n",
      "[ 5 12 21 32]\n",
      "[0.2        0.33333333 0.42857143 0.5       ]\n"
     ]
    }
   ],
   "source": [
    "import numpy as np \n",
    "\n",
    "a = np.array([1, 2, 3, 4]) \n",
    "b = np.array([5, 6, 7, 8]) \n",
    "mang_cong = a + b \n",
    "print(mang_cong)\n",
    "mang_tru = a - b \n",
    "print(mang_tru)\n",
    "mang_nhan = a * b \n",
    "print(mang_nhan)\n",
    "mang_chia = a / b \n",
    "print(mang_chia)"
   ]
  },
  {
   "cell_type": "code",
   "execution_count": 6,
   "metadata": {},
   "outputs": [
    {
     "name": "stdout",
     "output_type": "stream",
     "text": [
      "12\n",
      "3\n"
     ]
    }
   ],
   "source": [
    "# max, min\n",
    "d = np.array([3, 10, 9, 12, 8, 5])\n",
    "print(np.amax(d))\n",
    "print(np.amin(d))"
   ]
  },
  {
   "cell_type": "code",
   "execution_count": 8,
   "metadata": {},
   "outputs": [
    {
     "name": "stdout",
     "output_type": "stream",
     "text": [
      "[ 3 10  9 12  8  5]\n",
      "9\n"
     ]
    }
   ],
   "source": [
    "print(d)\n",
    "print(np.ptp(d, axis = 0))"
   ]
  },
  {
   "cell_type": "code",
   "execution_count": 9,
   "metadata": {},
   "outputs": [
    {
     "name": "stdout",
     "output_type": "stream",
     "text": [
      "[ 3 10  9 12  8  5]\n",
      "7.833333333333333\n"
     ]
    }
   ],
   "source": [
    "print(d)\n",
    "print(np.mean(d))"
   ]
  },
  {
   "cell_type": "code",
   "execution_count": 11,
   "metadata": {},
   "outputs": [
    {
     "name": "stdout",
     "output_type": "stream",
     "text": [
      "[ 3 10  9 12  8  5]\n",
      "8.5\n"
     ]
    }
   ],
   "source": [
    "print(d)\n",
    "print(np.median(d)) # 3, 5, 8, 9, 10, 12 => trung bình giữa = (8+9)/2"
   ]
  },
  {
   "cell_type": "markdown",
   "metadata": {},
   "source": [
    "## Sort, search, counting"
   ]
  },
  {
   "cell_type": "code",
   "execution_count": 13,
   "metadata": {},
   "outputs": [
    {
     "name": "stdout",
     "output_type": "stream",
     "text": [
      "[3 1 2 4 7 3 8 9 5 6]\n",
      "[1 2 3 3 4 5 6 7 8 9]\n"
     ]
    }
   ],
   "source": [
    "# numpy.sort(a, axis, kind, order)\n",
    "mang_5 = np.array([3, 1, 2, 4, 7, 3, 8, 9, 5, 6])\n",
    "print(mang_5)\n",
    "print(np.sort(mang_5))"
   ]
  },
  {
   "cell_type": "code",
   "execution_count": 18,
   "metadata": {},
   "outputs": [
    {
     "name": "stdout",
     "output_type": "stream",
     "text": [
      "[3 1 2 4 7 3 8 9 5 6]\n",
      "(array([4, 6, 7, 8, 9], dtype=int32),)\n",
      "[7 8 9 5 6]\n"
     ]
    }
   ],
   "source": [
    "print(mang_5)\n",
    "indexes = np.where(mang_5 >= 5)\n",
    "print(indexes)\n",
    "print(mang_5[indexes])"
   ]
  },
  {
   "cell_type": "code",
   "execution_count": 20,
   "metadata": {},
   "outputs": [
    {
     "name": "stdout",
     "output_type": "stream",
     "text": [
      "[3 1 2 4 7 3 8 9 5 6]\n",
      "[2 4 8 6]\n",
      "[7 8 9 5 6]\n"
     ]
    }
   ],
   "source": [
    "print(mang_5)\n",
    "print(np.extract(np.mod(mang_5,2)==0, mang_5))\n",
    "print(np.extract(mang_5 >= 5, mang_5))"
   ]
  },
  {
   "cell_type": "code",
   "execution_count": null,
   "metadata": {},
   "outputs": [],
   "source": []
  }
 ],
 "metadata": {
  "kernelspec": {
   "display_name": "Python 3",
   "language": "python",
   "name": "python3"
  },
  "language_info": {
   "codemirror_mode": {
    "name": "ipython",
    "version": 3
   },
   "file_extension": ".py",
   "mimetype": "text/x-python",
   "name": "python",
   "nbconvert_exporter": "python",
   "pygments_lexer": "ipython3",
   "version": "3.6.5"
  }
 },
 "nbformat": 4,
 "nbformat_minor": 2
}
