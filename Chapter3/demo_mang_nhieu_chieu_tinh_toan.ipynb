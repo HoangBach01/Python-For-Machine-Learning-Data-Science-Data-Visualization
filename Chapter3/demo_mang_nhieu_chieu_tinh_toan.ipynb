{
 "cells": [
  {
   "cell_type": "markdown",
   "metadata": {},
   "source": [
    "## Tính toán trên mảng nhiều chiều"
   ]
  },
  {
   "cell_type": "code",
   "execution_count": 2,
   "metadata": {},
   "outputs": [
    {
     "name": "stdout",
     "output_type": "stream",
     "text": [
      "[[1 2 3 4]\n",
      " [1 1 1 1]\n",
      " [1 2 3 4]\n",
      " [2 2 2 2]]\n",
      "[2 4 6 8]\n",
      "a + b\n",
      "[[ 3  6  9 12]\n",
      " [ 3  5  7  9]\n",
      " [ 3  6  9 12]\n",
      " [ 4  6  8 10]]\n",
      "a - b\n",
      "[[-1 -2 -3 -4]\n",
      " [-1 -3 -5 -7]\n",
      " [-1 -2 -3 -4]\n",
      " [ 0 -2 -4 -6]]\n",
      "a * b\n",
      "[[ 2  8 18 32]\n",
      " [ 2  4  6  8]\n",
      " [ 2  8 18 32]\n",
      " [ 4  8 12 16]]\n",
      "a / b\n",
      "[[0.5        0.5        0.5        0.5       ]\n",
      " [0.5        0.25       0.16666667 0.125     ]\n",
      " [0.5        0.5        0.5        0.5       ]\n",
      " [1.         0.5        0.33333333 0.25      ]]\n"
     ]
    }
   ],
   "source": [
    "import numpy as np\n",
    "a = np.array([[1, 2, 3, 4],[1, 1, 1, 1],[1, 2, 3, 4],[2, 2, 2, 2]]) \n",
    "b = np.array([2, 4, 6, 8])  \n",
    "print(a)\n",
    "print(b)\n",
    "print(\"a + b\")\n",
    "print(a + b)\n",
    "print(\"a - b\")\n",
    "print(a - b)\n",
    "print(\"a * b\")\n",
    "print(a * b)\n",
    "print(\"a / b\")\n",
    "print(a / b)"
   ]
  },
  {
   "cell_type": "code",
   "execution_count": 14,
   "metadata": {},
   "outputs": [
    {
     "name": "stdout",
     "output_type": "stream",
     "text": [
      "[[1 2 3 4]]\n",
      "a * c\n",
      "[[ 1  4  9 16]\n",
      " [ 1  2  3  4]\n",
      " [ 1  4  9 16]\n",
      " [ 2  4  6  8]]\n"
     ]
    }
   ],
   "source": [
    "c = np.array([[1, 2, 3, 4]]) \n",
    "print(c)\n",
    "print(\"a * c\")\n",
    "print(a * c)\n"
   ]
  },
  {
   "cell_type": "markdown",
   "metadata": {},
   "source": [
    "## Statistic"
   ]
  },
  {
   "cell_type": "code",
   "execution_count": 21,
   "metadata": {},
   "outputs": [
    {
     "name": "stdout",
     "output_type": "stream",
     "text": [
      "[[3 7 5]\n",
      " [8 4 3]\n",
      " [2 4 9]]\n"
     ]
    }
   ],
   "source": [
    "a = np.array([[3,7,5],[8,4,3],[2,4,9]])\n",
    "print(a)"
   ]
  },
  {
   "cell_type": "code",
   "execution_count": 27,
   "metadata": {},
   "outputs": [
    {
     "name": "stdout",
     "output_type": "stream",
     "text": [
      "Max: 9\n",
      "Min: 2\n",
      "Max - theo từng cột: [8 7 9]\n",
      "Min - theo từng cột: [2 4 3]\n",
      "Max - theo từng dòng: [7 8 9]\n",
      "Min - theo từng dòng: [3 3 2]\n"
     ]
    }
   ],
   "source": [
    "print(\"Max:\", np.amax(a))\n",
    "print(\"Min:\", np.amin(a))\n",
    "print(\"Max - theo từng cột:\", np.amax(a, 0))\n",
    "print(\"Min - theo từng cột:\", np.amin(a, 0))\n",
    "print(\"Max - theo từng dòng:\", np.amax(a, 1))\n",
    "print(\"Min - theo từng dòng:\", np.amin(a, 1))"
   ]
  },
  {
   "cell_type": "markdown",
   "metadata": {},
   "source": [
    "## Median, mean"
   ]
  },
  {
   "cell_type": "code",
   "execution_count": 35,
   "metadata": {},
   "outputs": [
    {
     "name": "stdout",
     "output_type": "stream",
     "text": [
      "[[[3 7]\n",
      "  [8 4]]\n",
      "\n",
      " [[2 4]\n",
      "  [1 5]]]\n",
      "Mean b:\n",
      "4.25\n",
      "Mean b[0]:\n",
      "5.5\n"
     ]
    }
   ],
   "source": [
    "b = np.array([[[3,7],[8,4]],[[2,4], [1, 5]]])\n",
    "print(b)\n",
    "print('Mean b:')\n",
    "print(np.mean(b))\n",
    "print('Mean b[0]:')\n",
    "print(np.mean(b[0]))"
   ]
  },
  {
   "cell_type": "code",
   "execution_count": 36,
   "metadata": {},
   "outputs": [
    {
     "name": "stdout",
     "output_type": "stream",
     "text": [
      "[[[3 7]\n",
      "  [8 4]]\n",
      "\n",
      " [[2 4]\n",
      "  [1 5]]]\n",
      "Median b:\n",
      "4.0\n",
      "Median b[1]:\n",
      "3.0\n"
     ]
    }
   ],
   "source": [
    "print(b)\n",
    "print('Median b:')\n",
    "print(np.median(b))\n",
    "print('Median b[1]:')\n",
    "print(np.median(b[1]))"
   ]
  },
  {
   "cell_type": "markdown",
   "metadata": {},
   "source": [
    "## Sort, where, extract\n"
   ]
  },
  {
   "cell_type": "code",
   "execution_count": 39,
   "metadata": {},
   "outputs": [
    {
     "name": "stdout",
     "output_type": "stream",
     "text": [
      "[[[9 7]\n",
      "  [8 4]]\n",
      "\n",
      " [[2 4]\n",
      "  [6 5]]]\n",
      "Sort c\n",
      "[[[7 9]\n",
      "  [4 8]]\n",
      "\n",
      " [[2 4]\n",
      "  [5 6]]]\n"
     ]
    }
   ],
   "source": [
    "c = np.array([[[9,7],[8,4]],[[2,4], [6, 5]]])\n",
    "print(c)\n",
    "print(\"Sort c\")\n",
    "print(np.sort(c))"
   ]
  },
  {
   "cell_type": "code",
   "execution_count": 41,
   "metadata": {},
   "outputs": [
    {
     "name": "stdout",
     "output_type": "stream",
     "text": [
      "Sort c[0] axis 0:\n",
      "[[8 4]\n",
      " [9 7]]\n"
     ]
    }
   ],
   "source": [
    "print('Sort c[0] axis 0 (theo cột):')\n",
    "print(np.sort(c[0], axis = 0))"
   ]
  },
  {
   "cell_type": "code",
   "execution_count": 42,
   "metadata": {},
   "outputs": [
    {
     "name": "stdout",
     "output_type": "stream",
     "text": [
      "Sort c[0] axis 1 (theo dòng):\n",
      "[[7 9]\n",
      " [4 8]]\n"
     ]
    }
   ],
   "source": [
    "print('Sort c[0] axis 1 (theo dòng):')\n",
    "print(np.sort(c[0], axis = 1))"
   ]
  },
  {
   "cell_type": "code",
   "execution_count": 43,
   "metadata": {},
   "outputs": [
    {
     "name": "stdout",
     "output_type": "stream",
     "text": [
      "[(b'Tom', 21) (b'Jenny', 25) (b'Herry', 17) (b'Matt', 27)]\n"
     ]
    }
   ],
   "source": [
    "dt = np.dtype([('name', 'S10'),('age', int)]) \n",
    "ds = np.array([(\"Tom\",21),(\"Jenny\",25),(\"Herry\", 17), (\"Matt\",27)], dtype = dt) \n",
    "print(ds)"
   ]
  },
  {
   "cell_type": "code",
   "execution_count": 44,
   "metadata": {},
   "outputs": [
    {
     "name": "stdout",
     "output_type": "stream",
     "text": [
      "Order by name:\n",
      "[(b'Herry', 17) (b'Jenny', 25) (b'Matt', 27) (b'Tom', 21)]\n",
      "Order by age:\n",
      "[(b'Herry', 17) (b'Tom', 21) (b'Jenny', 25) (b'Matt', 27)]\n"
     ]
    }
   ],
   "source": [
    "print('Order by name:')\n",
    "print(np.sort(ds, order = 'name'))\n",
    "print('Order by age:')\n",
    "print(np.sort(ds, order = 'age'))"
   ]
  },
  {
   "cell_type": "code",
   "execution_count": 51,
   "metadata": {},
   "outputs": [
    {
     "name": "stdout",
     "output_type": "stream",
     "text": [
      "[[[9 7]\n",
      "  [8 4]]\n",
      "\n",
      " [[2 4]\n",
      "  [6 5]]]\n",
      "(array([0, 0, 0, 1], dtype=int32), array([0, 0, 1, 1], dtype=int32), array([0, 1, 0, 0], dtype=int32))\n",
      "[9 7 8 6]\n"
     ]
    }
   ],
   "source": [
    "print(c)\n",
    "cond = np.where(c>5)\n",
    "print(cond)\n",
    "print(c[cond])"
   ]
  },
  {
   "cell_type": "code",
   "execution_count": 56,
   "metadata": {},
   "outputs": [
    {
     "name": "stdout",
     "output_type": "stream",
     "text": [
      "[[[9 7]\n",
      "  [8 4]]\n",
      "\n",
      " [[2 4]\n",
      "  [6 5]]]\n",
      "Trên c: [9 7 8 6 5]\n",
      "Trên c[0]: [9 7 8]\n"
     ]
    }
   ],
   "source": [
    "print(c)\n",
    "print(\"Trên c:\",np.extract(c >= 5, c))\n",
    "print(\"Trên c[0]:\",np.extract(c[0] >= 5, c[0]))\n"
   ]
  },
  {
   "cell_type": "code",
   "execution_count": 4,
   "metadata": {},
   "outputs": [
    {
     "name": "stdout",
     "output_type": "stream",
     "text": [
      "[[1 2]\n",
      " [3 4]]\n",
      "1.118033988749895\n",
      "[1. 1.]\n",
      "[0.5 0.5]\n"
     ]
    }
   ],
   "source": [
    "# Tính toán độ lệch chuẩn standard deviation\n",
    "a = np.array([[1, 2], [3, 4]])\n",
    "print(a)\n",
    "print(np.std(a))\n",
    "print(np.std(a, axis = 0))\n",
    "print(np.std(a, axis = 1))"
   ]
  },
  {
   "cell_type": "code",
   "execution_count": 9,
   "metadata": {},
   "outputs": [
    {
     "name": "stdout",
     "output_type": "stream",
     "text": [
      "[[1 4 6]\n",
      " [1 2 3]]\n",
      "Coefficient\n",
      "[[1.         0.99339927]\n",
      " [0.99339927 1.        ]]\n"
     ]
    }
   ],
   "source": [
    "a = np.array([[1,4,6], [1,2,3]])\n",
    "print(a)\n",
    "print(\"Coefficient\")\n",
    "print(np.corrcoef(a[0],a[1]))"
   ]
  },
  {
   "cell_type": "code",
   "execution_count": null,
   "metadata": {},
   "outputs": [],
   "source": []
  }
 ],
 "metadata": {
  "kernelspec": {
   "display_name": "Python 3",
   "language": "python",
   "name": "python3"
  },
  "language_info": {
   "codemirror_mode": {
    "name": "ipython",
    "version": 3
   },
   "file_extension": ".py",
   "mimetype": "text/x-python",
   "name": "python",
   "nbconvert_exporter": "python",
   "pygments_lexer": "ipython3",
   "version": "3.6.5"
  }
 },
 "nbformat": 4,
 "nbformat_minor": 2
}
