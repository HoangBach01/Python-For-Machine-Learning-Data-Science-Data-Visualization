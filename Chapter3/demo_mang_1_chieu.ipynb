{
 "cells": [
  {
   "cell_type": "code",
   "execution_count": 2,
   "metadata": {},
   "outputs": [
    {
     "name": "stdout",
     "output_type": "stream",
     "text": [
      "[1 2 3]\n"
     ]
    }
   ],
   "source": [
    "import numpy as np\n",
    "x = [1,2,3] \n",
    "a = np.asarray(x) \n",
    "print(a)"
   ]
  },
  {
   "cell_type": "code",
   "execution_count": 2,
   "metadata": {},
   "outputs": [
    {
     "name": "stdout",
     "output_type": "stream",
     "text": [
      "[0 0 0 0 0]\n"
     ]
    }
   ],
   "source": [
    "# Mảng với các phần tử có giá trị ban đầu là 0\n",
    "mang = np.zeros((5,), dtype = np.int) \n",
    "print(mang)"
   ]
  },
  {
   "cell_type": "code",
   "execution_count": 3,
   "metadata": {},
   "outputs": [
    {
     "name": "stdout",
     "output_type": "stream",
     "text": [
      "[1. 1. 1. 1. 1.]\n"
     ]
    }
   ],
   "source": [
    "# Mảng với các phần tử có giá trị ban đầu là 1\n",
    "mang_1 = np.ones(5) \n",
    "print(mang_1)"
   ]
  },
  {
   "cell_type": "code",
   "execution_count": 4,
   "metadata": {},
   "outputs": [
    {
     "name": "stdout",
     "output_type": "stream",
     "text": [
      "[1 2 3]\n"
     ]
    }
   ],
   "source": [
    "# Tạo mảng từ Tuple\n",
    "x = (1, 2, 3) \n",
    "a = np.asarray(x) \n",
    "print(a)"
   ]
  },
  {
   "cell_type": "markdown",
   "metadata": {},
   "source": [
    "## Tạo mảng với range, sử dụng: numpy.arange(start, stop, step, dtype)"
   ]
  },
  {
   "cell_type": "code",
   "execution_count": 5,
   "metadata": {},
   "outputs": [
    {
     "name": "stdout",
     "output_type": "stream",
     "text": [
      "[10 12 14 16 18]\n"
     ]
    }
   ],
   "source": [
    "mang_2 = np.arange(10,20,2) \n",
    "print(mang_2)"
   ]
  },
  {
   "cell_type": "markdown",
   "metadata": {},
   "source": [
    "## Tạo mảng với range có khoảng cách đều nhau, sử dụng: numpy.linspace(start, stop, num, endpoint, retstep, dtype)"
   ]
  },
  {
   "cell_type": "code",
   "execution_count": 7,
   "metadata": {},
   "outputs": [
    {
     "name": "stdout",
     "output_type": "stream",
     "text": [
      "[10.  12.5 15.  17.5 20. ]\n",
      "[10. 12. 14. 16. 18.]\n"
     ]
    }
   ],
   "source": [
    "mang_3 = np.linspace(10,20, 5) \n",
    "print(mang_3)\n",
    "mang_4 = np.linspace(10,20, 5, endpoint = False) \n",
    "print(mang_4)"
   ]
  },
  {
   "cell_type": "code",
   "execution_count": 15,
   "metadata": {},
   "outputs": [
    {
     "name": "stdout",
     "output_type": "stream",
     "text": [
      "[1 3 2 4 5 7 9]\n",
      "4\n",
      "[4 5 7 9]\n",
      "[4 5]\n",
      "[1 3 2 4]\n"
     ]
    }
   ],
   "source": [
    "# Truy xuất phần tử trong mảng\n",
    "mang_4 = np.array([1, 3, 2, 4, 5, 7, 9])\n",
    "print(mang_4)\n",
    "print(mang_4[3])\n",
    "print(mang_4[3:])\n",
    "print(mang_4[3:5])\n",
    "print(mang_4[mang_4 < 5]) # có kèm điều kiện"
   ]
  },
  {
   "cell_type": "code",
   "execution_count": 11,
   "metadata": {},
   "outputs": [
    {
     "name": "stdout",
     "output_type": "stream",
     "text": [
      "[0 1 2 3 4 5 6 7 8 9]\n",
      "[3 5 7]\n",
      "5\n"
     ]
    }
   ],
   "source": [
    "# Truy xuất các phần tử trong mảng dùng slice\n",
    "mang_5 = np.arange(10)\n",
    "print(mang_5)\n",
    "s = slice(3,8,2) \n",
    "print(mang_5[s])\n",
    "print(mang_5[s][1])\n"
   ]
  },
  {
   "cell_type": "code",
   "execution_count": 3,
   "metadata": {},
   "outputs": [
    {
     "name": "stdout",
     "output_type": "stream",
     "text": [
      "[ 0  1  2  3  4  5  6  7  8  9 25 30]\n"
     ]
    }
   ],
   "source": [
    "# Thêm các phần tử vào cuối mảng\n",
    "mang_5 = np.arange(10)\n",
    "mang_5  = np.append(mang_5, [25, 30])\n",
    "print(mang_5)"
   ]
  },
  {
   "cell_type": "code",
   "execution_count": 4,
   "metadata": {},
   "outputs": [
    {
     "name": "stdout",
     "output_type": "stream",
     "text": [
      "[ 0  1  2  3  4  5  6  7  8  9 25 30]\n",
      "[  0   1   2 100   3   4   5   6   7   8   9  25  30]\n"
     ]
    }
   ],
   "source": [
    "# Thêm phần từ vào index = 3, giá trị 100\n",
    "print(mang_5)\n",
    "mang_5 = np.insert(mang_5, 3, 100)\n",
    "print(mang_5)"
   ]
  },
  {
   "cell_type": "code",
   "execution_count": 6,
   "metadata": {},
   "outputs": [
    {
     "name": "stdout",
     "output_type": "stream",
     "text": [
      "[  0   1   2 100   3   4   5   6   7   8   9  25  30]\n",
      "[  0   1   2 100   3   4   5   6   7   8   9  30]\n"
     ]
    }
   ],
   "source": [
    "# Xóa phần tử tại vị trí index = 11\n",
    "print(mang_5)\n",
    "mang_5 = np.delete(mang_5, 11)\n",
    "print(mang_5)"
   ]
  },
  {
   "cell_type": "code",
   "execution_count": null,
   "metadata": {},
   "outputs": [],
   "source": []
  }
 ],
 "metadata": {
  "kernelspec": {
   "display_name": "Python 3",
   "language": "python",
   "name": "python3"
  },
  "language_info": {
   "codemirror_mode": {
    "name": "ipython",
    "version": 3
   },
   "file_extension": ".py",
   "mimetype": "text/x-python",
   "name": "python",
   "nbconvert_exporter": "python",
   "pygments_lexer": "ipython3",
   "version": "3.6.5"
  }
 },
 "nbformat": 4,
 "nbformat_minor": 2
}
